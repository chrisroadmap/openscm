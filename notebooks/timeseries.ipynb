{
 "cells": [
  {
   "cell_type": "markdown",
   "metadata": {},
   "source": [
    "# OpenSCM Timeseries\n",
    "\n",
    "In OpenSCM, the class for handling timeseries is `openscm.timeseries.Timeseries`. \n",
    "\n",
    "A timeseries in OpenSCM is always initialised from arrays i.e. discrete data which are associated with specific points in time. In this notebook we call the initialisation values the 'source data' and the times with which they are associated the 'source times'.\n",
    "\n",
    "To estimate what the value of the variable under consideration is at points in time other than the source points (call these points the 'target times'), i.e. to interpolate or extrapolate, we always take the following steps:\n",
    "\n",
    "1. start with the data which was originally used to set the timeseries\n",
    "1. convert the discrete data to continuous data using an interpolation/extrapolation technique\n",
    "    - e.g. linear interpolation, cubic spline, moving average\n",
    "1. use the continuous data to determine the values at the target times aka the 'target values'\n",
    "\n",
    "There is one additional complication in this process. It is the different conventions that are used with timeseries. For example, sometimes the data value is the value only at the exact point in time for which it is supplied while other times the data value represents the average of the underlying continuous data set over a given time period. These conventions affect how the conversion between continuous and discrete data is done and hence are vital to document and understand.\n",
    "\n",
    "*Note:* In order to recover the original data from the target data, you need to know which assumptions have been made in the interpolation process and what convention is being used.\n",
    "\n",
    "In this notebook we go through the different interpolation and extrapolation options available to OpenSCM users as well as the different conventions OpenSCM understands. If your particular use case is not here, please raise an issue at [https://github.com/openclimatedata/openscm/issues]()."
   ]
  },
  {
   "cell_type": "code",
   "execution_count": 1,
   "metadata": {},
   "outputs": [
    {
     "data": {
      "application/javascript": [
       "IPython.OutputArea.prototype._should_scroll = function(lines) { return false; }"
      ],
      "text/plain": [
       "<IPython.core.display.Javascript object>"
      ]
     },
     "metadata": {},
     "output_type": "display_data"
    }
   ],
   "source": [
    "from itertools import count\n",
    "from copy import copy\n",
    "\n",
    "import numpy as np\n",
    "from matplotlib import pyplot as plt\n",
    "\n",
    "from openscm import timeseries\n",
    "from openscm.core import ParameterSet"
   ]
  },
  {
   "cell_type": "code",
   "execution_count": 2,
   "metadata": {},
   "outputs": [],
   "source": [
    "COLOUR_1 = \"lime\"\n",
    "COLOUR_2 = \"midnightblue\"\n",
    "COLOUR_3 = \"firebrick\"\n",
    "COLOUR_4 = \"deeppink\"\n",
    "\n",
    "MARKER_1 = \"o\"\n",
    "MARKER_2 = \"^\"\n",
    "MARKER_3 = \"+\"\n",
    "MARKER_4 = \"x\""
   ]
  },
  {
   "cell_type": "markdown",
   "metadata": {},
   "source": [
    "## Holding data\n",
    "\n",
    "In OpenSCM, all data is stored in instances of `ParameterSet`. "
   ]
  },
  {
   "cell_type": "code",
   "execution_count": 3,
   "metadata": {},
   "outputs": [],
   "source": [
    "paras = ParameterSet()"
   ]
  },
  {
   "cell_type": "markdown",
   "metadata": {},
   "source": [
    "---\n",
    "## Example 1: Period average data with linear interpolation\n",
    "\n",
    "As it stands, the only case OpenSCM can handle is linear interpolation of data where the convention is that the source values represent the average of the underlying timeseries over a time period. This time period extends from the time time at which the value is provided, the 'data time', up until the next time in the timeseries. A common example for such a convention is emissions data, where each time point represents the average emissions flux for that time period e.g. 2100 emissions of 3 GtC / yr means that the average rate of emissions for 2100 was 3 GtC / yr.\n",
    "\n",
    "<div class=\"alert alert-warning\">\n",
    "  <strong>Warning!</strong> Emissions data is ocassionally reported without the rate e.g. 2100 emissions were 3 GtC. In OpenSCM, we explicitly do not allow this as it doesn't actually make sense. The cumulative emissions for the year were 3 GtC but the emissions were not 3 GtC at any given point in 2100. Before passing emissions data into OpenSCM it should have the units converted to rates (of course, cumulative emissions data should not be reported as rates and so perhaps the only fix required is changing the variable name from `Emissions` to `Cumulative Emissions`).\n",
    "</div>"
   ]
  },
  {
   "cell_type": "markdown",
   "metadata": {},
   "source": [
    "### Source data"
   ]
  },
  {
   "cell_type": "markdown",
   "metadata": {},
   "source": [
    "To start with, we set our source data.\n",
    "\n",
    "If your data is periodic, all we need to do to specify our timeseries is to provide the start time and period length of the time axis."
   ]
  },
  {
   "cell_type": "code",
   "execution_count": 4,
   "metadata": {},
   "outputs": [],
   "source": [
    "source_values = np.array([1, 5, 3, 5, 7, 3, 2, 9])\n",
    "source_period_length = 10\n",
    "source_view = paras.get_writable_timeseries_view(\n",
    "    (\"Emissions\", \"CO2\"),\n",
    "    (\"World\",),\n",
    "    \"GtC / yr\",\n",
    "    start_time=0,\n",
    "    period_length=source_period_length,\n",
    ")\n",
    "source_view.set_series(source_values)"
   ]
  },
  {
   "cell_type": "markdown",
   "metadata": {},
   "source": [
    "[TODO: make this sane]\n",
    "\n",
    "The `get_points` method of our view's `_timeseries_converter._source` allows us to get the source times for our data."
   ]
  },
  {
   "cell_type": "code",
   "execution_count": 5,
   "metadata": {},
   "outputs": [
    {
     "data": {
      "text/plain": [
       "array([ 0., 10., 20., 30., 40., 50., 60., 70.])"
      ]
     },
     "execution_count": 5,
     "metadata": {},
     "output_type": "execute_result"
    }
   ],
   "source": [
    "source_times = source_view._timeseries_converter._source.get_points(\n",
    "    len(source_view.get_series())\n",
    ")\n",
    "source_times"
   ]
  },
  {
   "cell_type": "code",
   "execution_count": 6,
   "metadata": {},
   "outputs": [
    {
     "data": {
      "image/png": "[encoded data removed]",
      "text/plain": [
       "<Figure size 432x288 with 1 Axes>"
      ]
     },
     "metadata": {
      "needs_background": "light"
     },
     "output_type": "display_data"
    }
   ],
   "source": [
    "ax = plt.figure().add_subplot(111)\n",
    "ax.scatter(\n",
    "    source_times, \n",
    "    source_values, \n",
    "    label=\"source data\", \n",
    "    marker=MARKER_1,\n",
    "    color=COLOUR_1,\n",
    ")\n",
    "ax.legend(frameon=False);"
   ]
  },
  {
   "cell_type": "markdown",
   "metadata": {},
   "source": [
    "### Target data\n",
    "\n",
    "Next we set our target, using one of OpenSCM's `ParameterView`'s."
   ]
  },
  {
   "cell_type": "code",
   "execution_count": 7,
   "metadata": {},
   "outputs": [],
   "source": [
    "target_period_length = 7\n",
    "target_view = paras.get_timeseries_view(\n",
    "    (\"Emissions\", \"CO2\"),\n",
    "    (\"World\",),\n",
    "    \"GtC / yr\",\n",
    "    start_time=-3,\n",
    "    period_length=target_period_length,\n",
    ")\n",
    "target_times = target_view._timeseries_converter._target.get_points(\n",
    "    len(target_view.get_series())\n",
    ")"
   ]
  },
  {
   "cell_type": "markdown",
   "metadata": {},
   "source": [
    "### Conversion\n",
    "\n",
    "To convert from discrete to continuous data, we interpolate the data such that their average (i.e. integral over the period divided by the period length) equals the original source data. We use three points per period: at each period edge the value is assumed to equal the average of the values for the two adjacent periods and at the period mid point the value is adjusted such that the period average equals the source data value for that period. For the first and the last period the mid points are assumed to be at the period average and the outer edges are adjusted accordingly.\n",
    "\n",
    "In a picture it looks like the below. To make it easier to see how the interpolation is integral preserving, we plot the source data with lines which show the integral, following the assumption that the data values represent the average over the time period."
   ]
  },
  {
   "cell_type": "code",
   "execution_count": 8,
   "metadata": {},
   "outputs": [],
   "source": [
    "def plot_timeframe(ax, values, timeframe, **kwargs):\n",
    "    ax.step(timeframe.get_points(len(values) + 1), np.concatenate(([values[0]], values)), **kwargs)"
   ]
  },
  {
   "cell_type": "code",
   "execution_count": 9,
   "metadata": {},
   "outputs": [
    {
     "data": {
      "image/png": "[encoded data removed]",
      "text/plain": [
       "<Figure size 432x288 with 1 Axes>"
      ]
     },
     "metadata": {
      "needs_background": "light"
     },
     "output_type": "display_data"
    }
   ],
   "source": [
    "# TODO: make this sane(?)\n",
    "continuous = timeseries._calc_continuous(\n",
    "    source_view.get_series(), \n",
    "    source_view._timeseries_converter._source\n",
    ")\n",
    "ax = plt.figure().add_subplot(111)\n",
    "plot_timeframe(\n",
    "    ax, \n",
    "    source_view.get_series(), \n",
    "    source_view._timeseries_converter._source, \n",
    "    label=\"source\",\n",
    "    marker=MARKER_1,\n",
    "    color=COLOUR_1,\n",
    ")\n",
    "plt_times = np.linspace(\n",
    "    source_times[0], \n",
    "    source_times[-1] + source_period_length, \n",
    "    500\n",
    ")\n",
    "ax.plot(\n",
    "    plt_times, \n",
    "    continuous(plt_times), \n",
    "    label=\"continuous (linear integral preserving interpolation)\", \n",
    "    marker=None,\n",
    "    color=COLOUR_2,\n",
    ")\n",
    "ax.legend(frameon=False);"
   ]
  },
  {
   "cell_type": "markdown",
   "metadata": {},
   "source": [
    "In a second step, we calculate the target values by integrating the continuous function. \n",
    "\n",
    "*Note:* at the moment extrapolation always occurs [TODO: make this optional]."
   ]
  },
  {
   "cell_type": "code",
   "execution_count": 10,
   "metadata": {},
   "outputs": [],
   "source": [
    "target_times = target_view._timeseries_converter._target.get_points(\n",
    "    len(target_view.get_series())\n",
    ")\n",
    "interval_times = np.concatenate([\n",
    "    target_times, \n",
    "    [target_times[-1] + target_period_length]\n",
    "])\n",
    "interval_averages = timeseries._calc_interval_averages_from_func(\n",
    "    continuous,\n",
    "    interval_times\n",
    ")"
   ]
  },
  {
   "cell_type": "code",
   "execution_count": 11,
   "metadata": {},
   "outputs": [
    {
     "data": {
      "text/plain": [
       "array([-0.8       ,  2.02142857,  5.37857143,  3.42857143,  3.34285714,\n",
       "        5.1       ,  7.18571429,  5.44642857,  2.49642857,  1.20714286,\n",
       "        5.59285714, 10.75      ])"
      ]
     },
     "execution_count": 11,
     "metadata": {},
     "output_type": "execute_result"
    }
   ],
   "source": [
    "interval_averages"
   ]
  },
  {
   "cell_type": "markdown",
   "metadata": {},
   "source": [
    "#### Plot"
   ]
  },
  {
   "cell_type": "code",
   "execution_count": 12,
   "metadata": {},
   "outputs": [
    {
     "data": {
      "image/png": "[encoded data removed]",
      "text/plain": [
       "<Figure size 432x288 with 1 Axes>"
      ]
     },
     "metadata": {
      "needs_background": "light"
     },
     "output_type": "display_data"
    }
   ],
   "source": [
    "ax = plt.figure().add_subplot(111)\n",
    "plot_timeframe(\n",
    "    ax, \n",
    "    source_view.get_series(), \n",
    "    source_view._timeseries_converter._source, \n",
    "    label=\"source\",\n",
    "    marker=MARKER_1,\n",
    "    color=COLOUR_1,\n",
    ")\n",
    "plt_times = np.linspace(\n",
    "    target_times[0], \n",
    "    target_times[-1] + target_period_length, \n",
    "    500\n",
    ")\n",
    "ax.plot(\n",
    "    plt_times, \n",
    "    continuous(plt_times), \n",
    "    label=\"continuous (linear integral preserving interpolation)\", \n",
    "    marker=None,\n",
    "    color=COLOUR_2,\n",
    ")\n",
    "ax.scatter(\n",
    "    target_times, \n",
    "    interval_averages, \n",
    "    color=COLOUR_3, \n",
    "    marker=MARKER_2,\n",
    "    zorder=10, \n",
    "    label=\"target\"\n",
    ")\n",
    "for x in target_times:\n",
    "    ax.axvline(x=x, color=COLOUR_3, alpha=0.3, ls=\"--\")\n",
    "ax.axvline(x=x + target_period_length, color=COLOUR_3, alpha=0.3, ls=\"--\")\n",
    "ax.legend();"
   ]
  },
  {
   "cell_type": "code",
   "execution_count": 13,
   "metadata": {},
   "outputs": [
    {
     "data": {
      "image/png": "[encoded data removed]",
      "text/plain": [
       "<Figure size 432x288 with 1 Axes>"
      ]
     },
     "metadata": {
      "needs_background": "light"
     },
     "output_type": "display_data"
    }
   ],
   "source": [
    "ax = plt.figure().add_subplot(111)\n",
    "ax.scatter(\n",
    "    source_times, \n",
    "    source_values, \n",
    "    label=\"source\", \n",
    "    marker=MARKER_1,\n",
    "    color=COLOUR_1,\n",
    ")\n",
    "ax.scatter(\n",
    "    target_times, \n",
    "    interval_averages, \n",
    "    color=COLOUR_3, \n",
    "    marker=MARKER_3,\n",
    "    label=\"target\"\n",
    ")\n",
    "ax.legend();"
   ]
  },
  {
   "cell_type": "markdown",
   "metadata": {},
   "source": [
    "### Using OpenSCM\n",
    "\n",
    "Requesting the data from this view includes an automatic conversion onto our new timeseries."
   ]
  },
  {
   "cell_type": "code",
   "execution_count": 14,
   "metadata": {},
   "outputs": [
    {
     "data": {
      "text/plain": [
       "array([-0.8       ,  2.02142857,  5.37857143,  3.42857143,  3.34285714,\n",
       "        5.1       ,  7.18571429,  5.44642857,  2.49642857,  1.20714286,\n",
       "        5.59285714, 10.75      ])"
      ]
     },
     "execution_count": 14,
     "metadata": {},
     "output_type": "execute_result"
    }
   ],
   "source": [
    "target_view.get_series()"
   ]
  },
  {
   "cell_type": "code",
   "execution_count": 15,
   "metadata": {},
   "outputs": [
    {
     "data": {
      "image/png": "[encoded data removed]",
      "text/plain": [
       "<Figure size 432x288 with 1 Axes>"
      ]
     },
     "metadata": {
      "needs_background": "light"
     },
     "output_type": "display_data"
    }
   ],
   "source": [
    "ax = plt.figure().add_subplot(111)\n",
    "ax.scatter(\n",
    "    source_times, \n",
    "    source_values, \n",
    "    label=\"source\", \n",
    "    marker=MARKER_1,\n",
    "    color=COLOUR_1,\n",
    ")\n",
    "ax.scatter(\n",
    "    target_times, \n",
    "    interval_averages, \n",
    "    color=COLOUR_3, \n",
    "    marker=MARKER_3,\n",
    "    label=\"target (from above)\"\n",
    ")\n",
    "ax.scatter(\n",
    "    target_times, \n",
    "    target_view.get_series(), \n",
    "    label=\"target (from OpenSCM)\", \n",
    "    marker=MARKER_2,\n",
    "    color=COLOUR_2,\n",
    ")\n",
    "ax.legend(frameon=False);"
   ]
  },
  {
   "cell_type": "markdown",
   "metadata": {},
   "source": [
    "The result is fairly non-intuitive. This is unavoidable as it's much harder to visual the transformations into and out of integral space (which are required to preserve the integrals) than a linear interpolation."
   ]
  }
 ],
 "metadata": {
  "jupytext": {},
  "kernelspec": {
   "display_name": "Python 3",
   "language": "python",
   "name": "python3"
  },
  "language_info": {
   "codemirror_mode": {
    "name": "ipython",
    "version": 3
   },
   "file_extension": ".py",
   "mimetype": "text/x-python",
   "name": "python",
   "nbconvert_exporter": "python",
   "pygments_lexer": "ipython3",
   "version": "3.7.1"
  }
 },
 "nbformat": 4,
 "nbformat_minor": 2
}
