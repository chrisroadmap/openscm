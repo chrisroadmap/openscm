{
 "cells": [
  {
   "cell_type": "markdown",
   "metadata": {},
   "source": [
    "@swillner this is my attempt to see how OpenSCM's timeframes work from the user perspective. Let's use it as a discussion board."
   ]
  },
  {
   "cell_type": "code",
   "execution_count": 1,
   "metadata": {},
   "outputs": [
    {
     "data": {
      "application/javascript": [
       "IPython.OutputArea.prototype._should_scroll = function(lines) { return false; }"
      ],
      "text/plain": [
       "<IPython.core.display.Javascript object>"
      ]
     },
     "metadata": {},
     "output_type": "display_data"
    }
   ],
   "source": [
    "import numpy as np\n",
    "from itertools import count\n",
    "from matplotlib import pyplot as plt\n",
    "from copy import copy\n",
    "from openscm import timeframes"
   ]
  },
  {
   "cell_type": "markdown",
   "metadata": {},
   "source": [
    "## Example 1: CO$_2$ Concentration Data\n",
    "\n",
    "Consider a timeframe of 5 points representing, say, CO$_2$ concentration data."
   ]
  },
  {
   "cell_type": "code",
   "execution_count": 2,
   "metadata": {},
   "outputs": [],
   "source": [
    "# original CO2 conc data\n",
    "source_values = np.array([1, 5, 3, 5, 7, 3, 2, 9])\n",
    "source_time_period = 1\n",
    "source_time_start = 1\n",
    "source_times = np.linspace(\n",
    "    source_time_start, \n",
    "    source_time_start + source_time_period*(len(source_values)-1), \n",
    "    len(source_values)\n",
    ") "
   ]
  },
  {
   "cell_type": "code",
   "execution_count": 3,
   "metadata": {},
   "outputs": [
    {
     "data": {
      "image/png": "[encoded data removed]",
      "text/plain": [
       "<Figure size 432x288 with 1 Axes>"
      ]
     },
     "metadata": {
      "needs_background": "light"
     },
     "output_type": "display_data"
    }
   ],
   "source": [
    "ax = plt.figure().add_subplot(111)\n",
    "ax.scatter(source_times, source_values, label=\"source data\", marker=\"o\")\n",
    "ax.legend();"
   ]
  },
  {
   "cell_type": "markdown",
   "metadata": {},
   "source": [
    "Now let's say that we want to interpolate this data onto a grid with a timestep which is half as small"
   ]
  },
  {
   "cell_type": "code",
   "execution_count": 4,
   "metadata": {},
   "outputs": [],
   "source": [
    "target_times = np.linspace(\n",
    "    source_times[0], \n",
    "    source_times[-1], \n",
    "    2*len(source_values) - 1  # sit on end point exactly\n",
    ") "
   ]
  },
  {
   "cell_type": "code",
   "execution_count": 5,
   "metadata": {},
   "outputs": [
    {
     "data": {
      "image/png": "[encoded data removed]",
      "text/plain": [
       "<Figure size 432x288 with 1 Axes>"
      ]
     },
     "metadata": {
      "needs_background": "light"
     },
     "output_type": "display_data"
    }
   ],
   "source": [
    "ax = plt.figure().add_subplot(111)\n",
    "ax.scatter(source_times, source_values, label=\"source data\", marker=\"o\")\n",
    "for i, x in enumerate(target_times):\n",
    "    ax.axvline(\n",
    "        x=x, \n",
    "        color=\"green\", \n",
    "        alpha=0.3, \n",
    "        linestyle=\"--\", \n",
    "        label=\"target timeframe time points\" if i == 0 else None\n",
    "    )\n",
    "ax.legend(loc=\"upper left\");"
   ]
  },
  {
   "cell_type": "markdown",
   "metadata": {},
   "source": [
    "OpenSCM should be able to do this, but currently cannot, for reasons I don't understand."
   ]
  },
  {
   "cell_type": "code",
   "execution_count": 6,
   "metadata": {},
   "outputs": [
    {
     "name": "stderr",
     "output_type": "stream",
     "text": [
      "object of type <class 'float'> cannot be safely interpreted as an integer.\n",
      "invalid value encountered in double_scalars\n",
      "divide by zero encountered in true_divide\n",
      "divide by zero encountered in double_scalars\n"
     ]
    },
    {
     "data": {
      "text/plain": [
       "array([nan, inf, inf, inf, inf, inf, inf, inf, inf, inf, inf, inf, inf,\n",
       "       inf, inf, inf])"
      ]
     },
     "execution_count": 6,
     "metadata": {},
     "output_type": "execute_result"
    }
   ],
   "source": [
    "source = timeframes.Timeframe(\n",
    "    start_time=source_time_start,\n",
    "    period_length=source_time_period\n",
    ")\n",
    "target = timeframes.Timeframe(\n",
    "    start_time=source_time_start,\n",
    "    period_length=source_time_period*0.5\n",
    ")\n",
    "target_values = timeframes._convert(\n",
    "    source_values,\n",
    "    source,\n",
    "    target\n",
    ")\n",
    "target_values"
   ]
  },
  {
   "cell_type": "markdown",
   "metadata": {},
   "source": [
    "Putting that OpenSCM behaviour aside, when doing such an interpolation there are choices to be made. I think the most common cases depend on three different things:\n",
    "\n",
    "- whether you are doing interpolation only or also require extrapolation\n",
    "    - for interpolation you have to think about what kind of spline you want to use (also depends on whether you need to preserve the integral or not)\n",
    "    - for extrapolation you need to think about the kind of spline and how you extend it outside your data domain\n",
    "- whether you are downscaling or upscaling\n",
    "    - the spline you use may change depending on which way you're going (upscaling a moving average may be better, downscaling a spline may be better)\n",
    "- whether you need to preserve the integral of your data or not\n",
    "    - your spline will change depending on the answer\n",
    "\n",
    "This gives us 8 possible outcomes (3 questions, 2 options per question). At the moment we are always assuming that we are in one of two cases: interpolation, integral preserving and down/upscaling. I think this is an error.\n",
    "\n",
    "As a result, I am not sure that we want to make any assumptions internally in OpenSCM. Regridding is always tricky and the user should confirm that it is going to behave as desired before moving on. I do think we should have a notebook which illustrates each of the major cases and shows how to do it in OpenSCM, it just should always be a user/adapter choice to do any of these operations, it shouldn't be automatic.   "
   ]
  }
 ],
 "metadata": {
  "kernelspec": {
   "display_name": "Python 3",
   "language": "python",
   "name": "python3"
  },
  "language_info": {
   "codemirror_mode": {
    "name": "ipython",
    "version": 3
   },
   "file_extension": ".py",
   "mimetype": "text/x-python",
   "name": "python",
   "nbconvert_exporter": "python",
   "pygments_lexer": "ipython3",
   "version": "3.7.1"
  }
 },
 "nbformat": 4,
 "nbformat_minor": 2
}
