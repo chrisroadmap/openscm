{
 "cells": [
  {
   "cell_type": "markdown",
   "metadata": {},
   "source": [
    "# Pyam Integration\n",
    "\n",
    "*Note:* These notebooks will be re-written as part of our [first milestone](https://github.com/openclimatedata/openscm/milestone/1)\n",
    "\n",
    "Here we make use of the ``scenarios`` module of OpenSCM. However, keep in mind the [direct connection to the IIASA database made available in Pyam](https://pyam-iamc.readthedocs.io/en/latest/tutorials/iiasa_dbs.html) for more in-depth analysis with up-to-date scenarios."
   ]
  },
  {
   "cell_type": "markdown",
   "metadata": {},
   "source": [
    "## Imports"
   ]
  },
  {
   "cell_type": "code",
   "execution_count": 1,
   "metadata": {},
   "outputs": [
    {
     "data": {
      "application/javascript": [
       "IPython.OutputArea.prototype._should_scroll = function(lines) { return false; }"
      ],
      "text/plain": [
       "<IPython.core.display.Javascript object>"
      ]
     },
     "metadata": {},
     "output_type": "display_data"
    }
   ],
   "source": [
    "# NBVAL_IGNORE_OUTPUT\n",
    "import pyam\n",
    "import seaborn as sns\n",
    "\n",
    "from pyam import IamDataFrame\n",
    "from openscm.scmdataframe import ScmDataFrame\n",
    "from openscm.scenarios import rcps"
   ]
  },
  {
   "cell_type": "code",
   "execution_count": 2,
   "metadata": {},
   "outputs": [],
   "source": [
    "sns.set(style=\"darkgrid\")"
   ]
  },
  {
   "cell_type": "markdown",
   "metadata": {},
   "source": [
    "## Scenarios"
   ]
  },
  {
   "cell_type": "markdown",
   "metadata": {},
   "source": [
    "Here we use the RCPs. Just for illustration, we firstly convert them back to `pyam.IamDataFrame`, then show how OpenSCM works with IamDataFrames from this point onwards.\n",
    "\n",
    "*Note:* we have to filter the data first as IamDataFrames do not work with data outside of Panda's datetime bounds (see [here](https://stackoverflow.com/a/37226672)). "
   ]
  },
  {
   "cell_type": "code",
   "execution_count": 3,
   "metadata": {},
   "outputs": [
    {
     "data": {
      "text/plain": [
       "pyam.core.IamDataFrame"
      ]
     },
     "execution_count": 3,
     "metadata": {},
     "output_type": "execute_result"
    }
   ],
   "source": [
    "df = IamDataFrame(rcps.filter(year=range(1, 2201)).timeseries())\n",
    "type(df)"
   ]
  },
  {
   "cell_type": "markdown",
   "metadata": {},
   "source": [
    "### Pyam features\n",
    "\n",
    "The following cells provide a brief overview of the metadata and plots that can be examined with a `pyam.IamDataFrame`."
   ]
  },
  {
   "cell_type": "code",
   "execution_count": 4,
   "metadata": {},
   "outputs": [
    {
     "data": {
      "text/plain": [
       "array(['Emissions|BC', 'Emissions|C2F6', 'Emissions|C6F14',\n",
       "       'Emissions|CCl4', 'Emissions|CF4', 'Emissions|CFC11',\n",
       "       'Emissions|CFC113', 'Emissions|CFC114', 'Emissions|CFC115',\n",
       "       'Emissions|CFC12', 'Emissions|CH3Br', 'Emissions|CH3CCl3',\n",
       "       'Emissions|CH3Cl', 'Emissions|CH4', 'Emissions|CO',\n",
       "       'Emissions|CO2|MAGICC AFOLU',\n",
       "       'Emissions|CO2|MAGICC Fossil and Industrial', 'Emissions|HCFC141b',\n",
       "       'Emissions|HCFC142b', 'Emissions|HCFC22', 'Emissions|HFC125',\n",
       "       'Emissions|HFC134a', 'Emissions|HFC143a', 'Emissions|HFC227ea',\n",
       "       'Emissions|HFC23', 'Emissions|HFC245fa', 'Emissions|HFC32',\n",
       "       'Emissions|HFC4310', 'Emissions|Halon1202', 'Emissions|Halon1211',\n",
       "       'Emissions|Halon1301', 'Emissions|Halon2402', 'Emissions|N2O',\n",
       "       'Emissions|NH3', 'Emissions|NMVOC', 'Emissions|NOx',\n",
       "       'Emissions|OC', 'Emissions|SF6', 'Emissions|SOx'], dtype=object)"
      ]
     },
     "execution_count": 4,
     "metadata": {},
     "output_type": "execute_result"
    }
   ],
   "source": [
    "# NBVAL_IGNORE_OUTPUT\n",
    "df[\"variable\"].unique()"
   ]
  },
  {
   "cell_type": "code",
   "execution_count": 5,
   "metadata": {},
   "outputs": [
    {
     "data": {
      "text/plain": [
       "array(['World'], dtype=object)"
      ]
     },
     "execution_count": 5,
     "metadata": {},
     "output_type": "execute_result"
    }
   ],
   "source": [
    "df[\"region\"].unique()"
   ]
  },
  {
   "cell_type": "code",
   "execution_count": 6,
   "metadata": {},
   "outputs": [
    {
     "data": {
      "text/plain": [
       "array(['RCP60', 'RCP26', 'RCP85', 'RCP45'], dtype=object)"
      ]
     },
     "execution_count": 6,
     "metadata": {},
     "output_type": "execute_result"
    }
   ],
   "source": [
    "df[\"scenario\"].unique()"
   ]
  },
  {
   "cell_type": "markdown",
   "metadata": {},
   "source": [
    "*Note:* For an explanation of the `parameter_type` column, see the 'timeseries-conversion' notebook."
   ]
  },
  {
   "cell_type": "code",
   "execution_count": 7,
   "metadata": {},
   "outputs": [
    {
     "data": {
      "text/html": [
       "<div>\n",
       "<style scoped>\n",
       "    .dataframe tbody tr th:only-of-type {\n",
       "        vertical-align: middle;\n",
       "    }\n",
       "\n",
       "    .dataframe tbody tr th {\n",
       "        vertical-align: top;\n",
       "    }\n",
       "\n",
       "    .dataframe thead th {\n",
       "        text-align: right;\n",
       "    }\n",
       "</style>\n",
       "<table border=\"1\" class=\"dataframe\">\n",
       "  <thead>\n",
       "    <tr style=\"text-align: right;\">\n",
       "      <th></th>\n",
       "      <th></th>\n",
       "      <th></th>\n",
       "      <th></th>\n",
       "      <th></th>\n",
       "      <th></th>\n",
       "      <th>1765-01-01 00:00:00</th>\n",
       "      <th>1766-01-01 00:00:00</th>\n",
       "      <th>1767-01-01 00:00:00</th>\n",
       "      <th>1768-01-01 00:00:00</th>\n",
       "      <th>1769-01-01 00:00:00</th>\n",
       "      <th>1770-01-01 00:00:00</th>\n",
       "      <th>1771-01-01 00:00:00</th>\n",
       "      <th>1772-01-01 00:00:00</th>\n",
       "      <th>1773-01-01 00:00:00</th>\n",
       "      <th>1774-01-01 00:00:00</th>\n",
       "      <th>...</th>\n",
       "      <th>2191-01-01 00:00:00</th>\n",
       "      <th>2192-01-01 00:00:00</th>\n",
       "      <th>2193-01-01 00:00:00</th>\n",
       "      <th>2194-01-01 00:00:00</th>\n",
       "      <th>2195-01-01 00:00:00</th>\n",
       "      <th>2196-01-01 00:00:00</th>\n",
       "      <th>2197-01-01 00:00:00</th>\n",
       "      <th>2198-01-01 00:00:00</th>\n",
       "      <th>2199-01-01 00:00:00</th>\n",
       "      <th>2200-01-01 00:00:00</th>\n",
       "    </tr>\n",
       "    <tr>\n",
       "      <th>model</th>\n",
       "      <th>scenario</th>\n",
       "      <th>region</th>\n",
       "      <th>variable</th>\n",
       "      <th>unit</th>\n",
       "      <th>parameter_type</th>\n",
       "      <th></th>\n",
       "      <th></th>\n",
       "      <th></th>\n",
       "      <th></th>\n",
       "      <th></th>\n",
       "      <th></th>\n",
       "      <th></th>\n",
       "      <th></th>\n",
       "      <th></th>\n",
       "      <th></th>\n",
       "      <th></th>\n",
       "      <th></th>\n",
       "      <th></th>\n",
       "      <th></th>\n",
       "      <th></th>\n",
       "      <th></th>\n",
       "      <th></th>\n",
       "      <th></th>\n",
       "      <th></th>\n",
       "      <th></th>\n",
       "      <th></th>\n",
       "    </tr>\n",
       "  </thead>\n",
       "  <tbody>\n",
       "    <tr>\n",
       "      <th rowspan=\"5\" valign=\"top\">AIM</th>\n",
       "      <th rowspan=\"5\" valign=\"top\">RCP60</th>\n",
       "      <th rowspan=\"5\" valign=\"top\">World</th>\n",
       "      <th>Emissions|BC</th>\n",
       "      <th>Mt BC / yr</th>\n",
       "      <th>average</th>\n",
       "      <td>0.000000</td>\n",
       "      <td>0.106998</td>\n",
       "      <td>0.133383</td>\n",
       "      <td>0.159847</td>\n",
       "      <td>0.186393</td>\n",
       "      <td>0.213024</td>\n",
       "      <td>0.239742</td>\n",
       "      <td>0.266550</td>\n",
       "      <td>0.293450</td>\n",
       "      <td>0.320446</td>\n",
       "      <td>...</td>\n",
       "      <td>4.3615</td>\n",
       "      <td>4.3615</td>\n",
       "      <td>4.3615</td>\n",
       "      <td>4.3615</td>\n",
       "      <td>4.3615</td>\n",
       "      <td>4.3615</td>\n",
       "      <td>4.3615</td>\n",
       "      <td>4.3615</td>\n",
       "      <td>4.3615</td>\n",
       "      <td>4.3615</td>\n",
       "    </tr>\n",
       "    <tr>\n",
       "      <th>Emissions|C2F6</th>\n",
       "      <th>kt C2F6 / yr</th>\n",
       "      <th>average</th>\n",
       "      <td>0.000000</td>\n",
       "      <td>0.000000</td>\n",
       "      <td>0.000000</td>\n",
       "      <td>0.000000</td>\n",
       "      <td>0.000000</td>\n",
       "      <td>0.000000</td>\n",
       "      <td>0.000000</td>\n",
       "      <td>0.000000</td>\n",
       "      <td>0.000000</td>\n",
       "      <td>0.000000</td>\n",
       "      <td>...</td>\n",
       "      <td>0.0370</td>\n",
       "      <td>0.0370</td>\n",
       "      <td>0.0370</td>\n",
       "      <td>0.0370</td>\n",
       "      <td>0.0370</td>\n",
       "      <td>0.0370</td>\n",
       "      <td>0.0370</td>\n",
       "      <td>0.0370</td>\n",
       "      <td>0.0370</td>\n",
       "      <td>0.0370</td>\n",
       "    </tr>\n",
       "    <tr>\n",
       "      <th>Emissions|C6F14</th>\n",
       "      <th>kt C6F14 / yr</th>\n",
       "      <th>average</th>\n",
       "      <td>0.000000</td>\n",
       "      <td>0.000000</td>\n",
       "      <td>0.000000</td>\n",
       "      <td>0.000000</td>\n",
       "      <td>0.000000</td>\n",
       "      <td>0.000000</td>\n",
       "      <td>0.000000</td>\n",
       "      <td>0.000000</td>\n",
       "      <td>0.000000</td>\n",
       "      <td>0.000000</td>\n",
       "      <td>...</td>\n",
       "      <td>0.0058</td>\n",
       "      <td>0.0058</td>\n",
       "      <td>0.0058</td>\n",
       "      <td>0.0058</td>\n",
       "      <td>0.0058</td>\n",
       "      <td>0.0058</td>\n",
       "      <td>0.0058</td>\n",
       "      <td>0.0058</td>\n",
       "      <td>0.0058</td>\n",
       "      <td>0.0058</td>\n",
       "    </tr>\n",
       "    <tr>\n",
       "      <th>Emissions|CCl4</th>\n",
       "      <th>kt CCl4 / yr</th>\n",
       "      <th>average</th>\n",
       "      <td>0.000000</td>\n",
       "      <td>0.000000</td>\n",
       "      <td>0.000000</td>\n",
       "      <td>0.000000</td>\n",
       "      <td>0.000000</td>\n",
       "      <td>0.000000</td>\n",
       "      <td>0.000000</td>\n",
       "      <td>0.000000</td>\n",
       "      <td>0.000000</td>\n",
       "      <td>0.000000</td>\n",
       "      <td>...</td>\n",
       "      <td>0.1550</td>\n",
       "      <td>0.1550</td>\n",
       "      <td>0.1550</td>\n",
       "      <td>0.1550</td>\n",
       "      <td>0.1550</td>\n",
       "      <td>0.1550</td>\n",
       "      <td>0.1550</td>\n",
       "      <td>0.1550</td>\n",
       "      <td>0.1550</td>\n",
       "      <td>0.1550</td>\n",
       "    </tr>\n",
       "    <tr>\n",
       "      <th>Emissions|CF4</th>\n",
       "      <th>kt CF4 / yr</th>\n",
       "      <th>average</th>\n",
       "      <td>0.010763</td>\n",
       "      <td>0.010752</td>\n",
       "      <td>0.010748</td>\n",
       "      <td>0.010744</td>\n",
       "      <td>0.010740</td>\n",
       "      <td>0.010736</td>\n",
       "      <td>0.010731</td>\n",
       "      <td>0.010727</td>\n",
       "      <td>0.010723</td>\n",
       "      <td>0.010719</td>\n",
       "      <td>...</td>\n",
       "      <td>0.0822</td>\n",
       "      <td>0.0822</td>\n",
       "      <td>0.0822</td>\n",
       "      <td>0.0822</td>\n",
       "      <td>0.0822</td>\n",
       "      <td>0.0822</td>\n",
       "      <td>0.0822</td>\n",
       "      <td>0.0822</td>\n",
       "      <td>0.0822</td>\n",
       "      <td>0.0822</td>\n",
       "    </tr>\n",
       "  </tbody>\n",
       "</table>\n",
       "<p>5 rows × 436 columns</p>\n",
       "</div>"
      ],
      "text/plain": [
       "                                                                    1765-01-01  \\\n",
       "model scenario region variable        unit          parameter_type               \n",
       "AIM   RCP60    World  Emissions|BC    Mt BC / yr    average           0.000000   \n",
       "                      Emissions|C2F6  kt C2F6 / yr  average           0.000000   \n",
       "                      Emissions|C6F14 kt C6F14 / yr average           0.000000   \n",
       "                      Emissions|CCl4  kt CCl4 / yr  average           0.000000   \n",
       "                      Emissions|CF4   kt CF4 / yr   average           0.010763   \n",
       "\n",
       "                                                                    1766-01-01  \\\n",
       "model scenario region variable        unit          parameter_type               \n",
       "AIM   RCP60    World  Emissions|BC    Mt BC / yr    average           0.106998   \n",
       "                      Emissions|C2F6  kt C2F6 / yr  average           0.000000   \n",
       "                      Emissions|C6F14 kt C6F14 / yr average           0.000000   \n",
       "                      Emissions|CCl4  kt CCl4 / yr  average           0.000000   \n",
       "                      Emissions|CF4   kt CF4 / yr   average           0.010752   \n",
       "\n",
       "                                                                    1767-01-01  \\\n",
       "model scenario region variable        unit          parameter_type               \n",
       "AIM   RCP60    World  Emissions|BC    Mt BC / yr    average           0.133383   \n",
       "                      Emissions|C2F6  kt C2F6 / yr  average           0.000000   \n",
       "                      Emissions|C6F14 kt C6F14 / yr average           0.000000   \n",
       "                      Emissions|CCl4  kt CCl4 / yr  average           0.000000   \n",
       "                      Emissions|CF4   kt CF4 / yr   average           0.010748   \n",
       "\n",
       "                                                                    1768-01-01  \\\n",
       "model scenario region variable        unit          parameter_type               \n",
       "AIM   RCP60    World  Emissions|BC    Mt BC / yr    average           0.159847   \n",
       "                      Emissions|C2F6  kt C2F6 / yr  average           0.000000   \n",
       "                      Emissions|C6F14 kt C6F14 / yr average           0.000000   \n",
       "                      Emissions|CCl4  kt CCl4 / yr  average           0.000000   \n",
       "                      Emissions|CF4   kt CF4 / yr   average           0.010744   \n",
       "\n",
       "                                                                    1769-01-01  \\\n",
       "model scenario region variable        unit          parameter_type               \n",
       "AIM   RCP60    World  Emissions|BC    Mt BC / yr    average           0.186393   \n",
       "                      Emissions|C2F6  kt C2F6 / yr  average           0.000000   \n",
       "                      Emissions|C6F14 kt C6F14 / yr average           0.000000   \n",
       "                      Emissions|CCl4  kt CCl4 / yr  average           0.000000   \n",
       "                      Emissions|CF4   kt CF4 / yr   average           0.010740   \n",
       "\n",
       "                                                                    1770-01-01  \\\n",
       "model scenario region variable        unit          parameter_type               \n",
       "AIM   RCP60    World  Emissions|BC    Mt BC / yr    average           0.213024   \n",
       "                      Emissions|C2F6  kt C2F6 / yr  average           0.000000   \n",
       "                      Emissions|C6F14 kt C6F14 / yr average           0.000000   \n",
       "                      Emissions|CCl4  kt CCl4 / yr  average           0.000000   \n",
       "                      Emissions|CF4   kt CF4 / yr   average           0.010736   \n",
       "\n",
       "                                                                    1771-01-01  \\\n",
       "model scenario region variable        unit          parameter_type               \n",
       "AIM   RCP60    World  Emissions|BC    Mt BC / yr    average           0.239742   \n",
       "                      Emissions|C2F6  kt C2F6 / yr  average           0.000000   \n",
       "                      Emissions|C6F14 kt C6F14 / yr average           0.000000   \n",
       "                      Emissions|CCl4  kt CCl4 / yr  average           0.000000   \n",
       "                      Emissions|CF4   kt CF4 / yr   average           0.010731   \n",
       "\n",
       "                                                                    1772-01-01  \\\n",
       "model scenario region variable        unit          parameter_type               \n",
       "AIM   RCP60    World  Emissions|BC    Mt BC / yr    average           0.266550   \n",
       "                      Emissions|C2F6  kt C2F6 / yr  average           0.000000   \n",
       "                      Emissions|C6F14 kt C6F14 / yr average           0.000000   \n",
       "                      Emissions|CCl4  kt CCl4 / yr  average           0.000000   \n",
       "                      Emissions|CF4   kt CF4 / yr   average           0.010727   \n",
       "\n",
       "                                                                    1773-01-01  \\\n",
       "model scenario region variable        unit          parameter_type               \n",
       "AIM   RCP60    World  Emissions|BC    Mt BC / yr    average           0.293450   \n",
       "                      Emissions|C2F6  kt C2F6 / yr  average           0.000000   \n",
       "                      Emissions|C6F14 kt C6F14 / yr average           0.000000   \n",
       "                      Emissions|CCl4  kt CCl4 / yr  average           0.000000   \n",
       "                      Emissions|CF4   kt CF4 / yr   average           0.010723   \n",
       "\n",
       "                                                                    1774-01-01  \\\n",
       "model scenario region variable        unit          parameter_type               \n",
       "AIM   RCP60    World  Emissions|BC    Mt BC / yr    average           0.320446   \n",
       "                      Emissions|C2F6  kt C2F6 / yr  average           0.000000   \n",
       "                      Emissions|C6F14 kt C6F14 / yr average           0.000000   \n",
       "                      Emissions|CCl4  kt CCl4 / yr  average           0.000000   \n",
       "                      Emissions|CF4   kt CF4 / yr   average           0.010719   \n",
       "\n",
       "                                                                    ...  \\\n",
       "model scenario region variable        unit          parameter_type  ...   \n",
       "AIM   RCP60    World  Emissions|BC    Mt BC / yr    average         ...   \n",
       "                      Emissions|C2F6  kt C2F6 / yr  average         ...   \n",
       "                      Emissions|C6F14 kt C6F14 / yr average         ...   \n",
       "                      Emissions|CCl4  kt CCl4 / yr  average         ...   \n",
       "                      Emissions|CF4   kt CF4 / yr   average         ...   \n",
       "\n",
       "                                                                    2191-01-01  \\\n",
       "model scenario region variable        unit          parameter_type               \n",
       "AIM   RCP60    World  Emissions|BC    Mt BC / yr    average             4.3615   \n",
       "                      Emissions|C2F6  kt C2F6 / yr  average             0.0370   \n",
       "                      Emissions|C6F14 kt C6F14 / yr average             0.0058   \n",
       "                      Emissions|CCl4  kt CCl4 / yr  average             0.1550   \n",
       "                      Emissions|CF4   kt CF4 / yr   average             0.0822   \n",
       "\n",
       "                                                                    2192-01-01  \\\n",
       "model scenario region variable        unit          parameter_type               \n",
       "AIM   RCP60    World  Emissions|BC    Mt BC / yr    average             4.3615   \n",
       "                      Emissions|C2F6  kt C2F6 / yr  average             0.0370   \n",
       "                      Emissions|C6F14 kt C6F14 / yr average             0.0058   \n",
       "                      Emissions|CCl4  kt CCl4 / yr  average             0.1550   \n",
       "                      Emissions|CF4   kt CF4 / yr   average             0.0822   \n",
       "\n",
       "                                                                    2193-01-01  \\\n",
       "model scenario region variable        unit          parameter_type               \n",
       "AIM   RCP60    World  Emissions|BC    Mt BC / yr    average             4.3615   \n",
       "                      Emissions|C2F6  kt C2F6 / yr  average             0.0370   \n",
       "                      Emissions|C6F14 kt C6F14 / yr average             0.0058   \n",
       "                      Emissions|CCl4  kt CCl4 / yr  average             0.1550   \n",
       "                      Emissions|CF4   kt CF4 / yr   average             0.0822   \n",
       "\n",
       "                                                                    2194-01-01  \\\n",
       "model scenario region variable        unit          parameter_type               \n",
       "AIM   RCP60    World  Emissions|BC    Mt BC / yr    average             4.3615   \n",
       "                      Emissions|C2F6  kt C2F6 / yr  average             0.0370   \n",
       "                      Emissions|C6F14 kt C6F14 / yr average             0.0058   \n",
       "                      Emissions|CCl4  kt CCl4 / yr  average             0.1550   \n",
       "                      Emissions|CF4   kt CF4 / yr   average             0.0822   \n",
       "\n",
       "                                                                    2195-01-01  \\\n",
       "model scenario region variable        unit          parameter_type               \n",
       "AIM   RCP60    World  Emissions|BC    Mt BC / yr    average             4.3615   \n",
       "                      Emissions|C2F6  kt C2F6 / yr  average             0.0370   \n",
       "                      Emissions|C6F14 kt C6F14 / yr average             0.0058   \n",
       "                      Emissions|CCl4  kt CCl4 / yr  average             0.1550   \n",
       "                      Emissions|CF4   kt CF4 / yr   average             0.0822   \n",
       "\n",
       "                                                                    2196-01-01  \\\n",
       "model scenario region variable        unit          parameter_type               \n",
       "AIM   RCP60    World  Emissions|BC    Mt BC / yr    average             4.3615   \n",
       "                      Emissions|C2F6  kt C2F6 / yr  average             0.0370   \n",
       "                      Emissions|C6F14 kt C6F14 / yr average             0.0058   \n",
       "                      Emissions|CCl4  kt CCl4 / yr  average             0.1550   \n",
       "                      Emissions|CF4   kt CF4 / yr   average             0.0822   \n",
       "\n",
       "                                                                    2197-01-01  \\\n",
       "model scenario region variable        unit          parameter_type               \n",
       "AIM   RCP60    World  Emissions|BC    Mt BC / yr    average             4.3615   \n",
       "                      Emissions|C2F6  kt C2F6 / yr  average             0.0370   \n",
       "                      Emissions|C6F14 kt C6F14 / yr average             0.0058   \n",
       "                      Emissions|CCl4  kt CCl4 / yr  average             0.1550   \n",
       "                      Emissions|CF4   kt CF4 / yr   average             0.0822   \n",
       "\n",
       "                                                                    2198-01-01  \\\n",
       "model scenario region variable        unit          parameter_type               \n",
       "AIM   RCP60    World  Emissions|BC    Mt BC / yr    average             4.3615   \n",
       "                      Emissions|C2F6  kt C2F6 / yr  average             0.0370   \n",
       "                      Emissions|C6F14 kt C6F14 / yr average             0.0058   \n",
       "                      Emissions|CCl4  kt CCl4 / yr  average             0.1550   \n",
       "                      Emissions|CF4   kt CF4 / yr   average             0.0822   \n",
       "\n",
       "                                                                    2199-01-01  \\\n",
       "model scenario region variable        unit          parameter_type               \n",
       "AIM   RCP60    World  Emissions|BC    Mt BC / yr    average             4.3615   \n",
       "                      Emissions|C2F6  kt C2F6 / yr  average             0.0370   \n",
       "                      Emissions|C6F14 kt C6F14 / yr average             0.0058   \n",
       "                      Emissions|CCl4  kt CCl4 / yr  average             0.1550   \n",
       "                      Emissions|CF4   kt CF4 / yr   average             0.0822   \n",
       "\n",
       "                                                                    2200-01-01  \n",
       "model scenario region variable        unit          parameter_type              \n",
       "AIM   RCP60    World  Emissions|BC    Mt BC / yr    average             4.3615  \n",
       "                      Emissions|C2F6  kt C2F6 / yr  average             0.0370  \n",
       "                      Emissions|C6F14 kt C6F14 / yr average             0.0058  \n",
       "                      Emissions|CCl4  kt CCl4 / yr  average             0.1550  \n",
       "                      Emissions|CF4   kt CF4 / yr   average             0.0822  \n",
       "\n",
       "[5 rows x 436 columns]"
      ]
     },
     "execution_count": 7,
     "metadata": {},
     "output_type": "execute_result"
    }
   ],
   "source": [
    "# NBVAL_IGNORE_OUTPUT\n",
    "df.timeseries().head()"
   ]
  },
  {
   "cell_type": "markdown",
   "metadata": {},
   "source": [
    "Pyam's plotting functions provide great defaults for making all sorts of informative plots."
   ]
  },
  {
   "cell_type": "code",
   "execution_count": 8,
   "metadata": {},
   "outputs": [
    {
     "data": {
      "image/png": "[encoded data removed]",
      "text/plain": [
       "<Figure size 432x288 with 1 Axes>"
      ]
     },
     "metadata": {},
     "output_type": "display_data"
    }
   ],
   "source": [
    "df.filter(variable='Emissions|BC').line_plot(\n",
    "    x=\"time\",\n",
    "    color='scenario', \n",
    "    legend=dict(loc='center left', bbox_to_anchor=(1.0, 0.5))\n",
    ");"
   ]
  },
  {
   "cell_type": "markdown",
   "metadata": {},
   "source": [
    "The use of a `pd.DataFrame` underneath the hood makes integration with other tools, like seaborn, trivial."
   ]
  },
  {
   "cell_type": "code",
   "execution_count": 9,
   "metadata": {},
   "outputs": [
    {
     "data": {
      "image/png": "[encoded data removed]",
      "text/plain": [
       "<Figure size 441.225x360 with 1 Axes>"
      ]
     },
     "metadata": {},
     "output_type": "display_data"
    }
   ],
   "source": [
    "emissions_bc = df.filter(\n",
    "    variable=\"Emissions|BC\"\n",
    ").data\n",
    "sns.relplot(\n",
    "    x=\"time\",\n",
    "    y=\"value\",\n",
    "    kind=\"line\",\n",
    "    col=\"region\",\n",
    "    hue=\"scenario\",\n",
    "    data=emissions_bc,\n",
    "    ci=None,\n",
    "    facet_kws={\"sharey\": False},\n",
    ");"
   ]
  },
  {
   "cell_type": "markdown",
   "metadata": {},
   "source": [
    "## Running scenarios\n",
    "\n",
    "OpenSCM can directly run scenarios from a `pyam.IamDataFrame` as shown."
   ]
  },
  {
   "cell_type": "code",
   "execution_count": null,
   "metadata": {},
   "outputs": [],
   "source": []
  }
 ],
 "metadata": {
  "kernelspec": {
   "display_name": "Python 3",
   "language": "python",
   "name": "python3"
  },
  "language_info": {
   "codemirror_mode": {
    "name": "ipython",
    "version": 3
   },
   "file_extension": ".py",
   "mimetype": "text/x-python",
   "name": "python",
   "nbconvert_exporter": "python",
   "pygments_lexer": "ipython3",
   "version": "3.7.4"
  }
 },
 "nbformat": 4,
 "nbformat_minor": 2
}
