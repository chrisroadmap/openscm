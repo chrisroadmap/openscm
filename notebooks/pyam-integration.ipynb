{
 "cells": [
  {
   "cell_type": "markdown",
   "metadata": {},
   "source": [
    "# Pyam Integration\n",
    "\n",
    "*Note:* These notebooks will be re-written as part of our [first milestone](https://github.com/openclimatedata/openscm/milestone/1)\n",
    "\n",
    "Here we make use of the ``scenarios`` module of OpenSCM. However, keep in mind the [direct connection to the IIASA database made available in Pyam](https://pyam-iamc.readthedocs.io/en/latest/tutorials/iiasa_dbs.html) for more in-depth analysis with up-to-date scenarios."
   ]
  },
  {
   "cell_type": "markdown",
   "metadata": {},
   "source": [
    "## Imports"
   ]
  },
  {
   "cell_type": "code",
   "execution_count": 1,
   "metadata": {},
   "outputs": [
    {
     "data": {
      "application/javascript": [
       "IPython.OutputArea.prototype._should_scroll = function(lines) { return false; }"
      ],
      "text/plain": [
       "<IPython.core.display.Javascript object>"
      ]
     },
     "metadata": {},
     "output_type": "display_data"
    },
    {
     "name": "stderr",
     "output_type": "stream",
     "text": [
      "Using or importing the ABCs from 'collections' instead of from 'collections.abc' is deprecated, and in 3.8 it will stop working\n",
      "Not importing directory /home/zebedee/Documents/AGCEC/MCastle/openscm/venv/lib/python3.7/site-packages/sphinxcontrib: missing __init__\n",
      "Not importing directory /home/zebedee/Documents/AGCEC/MCastle/openscm/venv/lib/python3.7/site-packages/mpl_toolkits: missing __init__\n"
     ]
    }
   ],
   "source": [
    "# NBVAL_IGNORE_OUTPUT\n",
    "import numpy as np\n",
    "import pyam\n",
    "import seaborn as sns\n",
    "\n",
    "from pyam import IamDataFrame\n",
    "from openscm import run\n",
    "from openscm.scmdataframe import ScmDataFrame\n",
    "from openscm.scenarios import rcps"
   ]
  },
  {
   "cell_type": "code",
   "execution_count": 2,
   "metadata": {},
   "outputs": [],
   "source": [
    "sns.set(style=\"darkgrid\")"
   ]
  },
  {
   "cell_type": "markdown",
   "metadata": {},
   "source": [
    "## Scenarios"
   ]
  },
  {
   "cell_type": "markdown",
   "metadata": {},
   "source": [
    "Here we use the RCPs. Just for illustration, we firstly convert them back to `pyam.IamDataFrame`, then show how OpenSCM works with IamDataFrames from this point onwards.\n",
    "\n",
    "*Note:* we have to filter the data first as IamDataFrames do not work with data outside of Panda's datetime bounds (see [here](https://stackoverflow.com/a/37226672)). "
   ]
  },
  {
   "cell_type": "code",
   "execution_count": 3,
   "metadata": {},
   "outputs": [
    {
     "data": {
      "text/plain": [
       "pyam.core.IamDataFrame"
      ]
     },
     "execution_count": 3,
     "metadata": {},
     "output_type": "execute_result"
    }
   ],
   "source": [
    "df = IamDataFrame(rcps.filter(year=range(1, 2201)).timeseries())\n",
    "type(df)"
   ]
  },
  {
   "cell_type": "markdown",
   "metadata": {},
   "source": [
    "### Pyam features\n",
    "\n",
    "The following cells provide a brief overview of the metadata and plots that can be examined with a `pyam.IamDataFrame`."
   ]
  },
  {
   "cell_type": "code",
   "execution_count": 4,
   "metadata": {},
   "outputs": [
    {
     "data": {
      "text/plain": [
       "array(['Emissions|BC', 'Emissions|C2F6', 'Emissions|C6F14',\n",
       "       'Emissions|CCl4', 'Emissions|CF4', 'Emissions|CFC11',\n",
       "       'Emissions|CFC113', 'Emissions|CFC114', 'Emissions|CFC115',\n",
       "       'Emissions|CFC12', 'Emissions|CH3Br', 'Emissions|CH3CCl3',\n",
       "       'Emissions|CH3Cl', 'Emissions|CH4', 'Emissions|CO',\n",
       "       'Emissions|CO2|MAGICC AFOLU',\n",
       "       'Emissions|CO2|MAGICC Fossil and Industrial', 'Emissions|HCFC141b',\n",
       "       'Emissions|HCFC142b', 'Emissions|HCFC22', 'Emissions|HFC125',\n",
       "       'Emissions|HFC134a', 'Emissions|HFC143a', 'Emissions|HFC227ea',\n",
       "       'Emissions|HFC23', 'Emissions|HFC245fa', 'Emissions|HFC32',\n",
       "       'Emissions|HFC4310', 'Emissions|Halon1202', 'Emissions|Halon1211',\n",
       "       'Emissions|Halon1301', 'Emissions|Halon2402', 'Emissions|N2O',\n",
       "       'Emissions|NH3', 'Emissions|NMVOC', 'Emissions|NOx',\n",
       "       'Emissions|OC', 'Emissions|SF6', 'Emissions|SOx'], dtype=object)"
      ]
     },
     "execution_count": 4,
     "metadata": {},
     "output_type": "execute_result"
    }
   ],
   "source": [
    "# NBVAL_IGNORE_OUTPUT\n",
    "df[\"variable\"].unique()"
   ]
  },
  {
   "cell_type": "code",
   "execution_count": 5,
   "metadata": {},
   "outputs": [
    {
     "data": {
      "text/plain": [
       "array(['World'], dtype=object)"
      ]
     },
     "execution_count": 5,
     "metadata": {},
     "output_type": "execute_result"
    }
   ],
   "source": [
    "df[\"region\"].unique()"
   ]
  },
  {
   "cell_type": "code",
   "execution_count": 6,
   "metadata": {},
   "outputs": [
    {
     "data": {
      "text/plain": [
       "array(['RCP60', 'RCP26', 'RCP85', 'RCP45'], dtype=object)"
      ]
     },
     "execution_count": 6,
     "metadata": {},
     "output_type": "execute_result"
    }
   ],
   "source": [
    "df[\"scenario\"].unique()"
   ]
  },
  {
   "cell_type": "markdown",
   "metadata": {},
   "source": [
    "*Note:* For an explanation of the `parameter_type` column, see the 'timeseries-conversion' notebook."
   ]
  },
  {
   "cell_type": "code",
   "execution_count": 7,
   "metadata": {},
   "outputs": [
    {
     "data": {
      "text/html": [
       "<div>\n",
       "<style scoped>\n",
       "    .dataframe tbody tr th:only-of-type {\n",
       "        vertical-align: middle;\n",
       "    }\n",
       "\n",
       "    .dataframe tbody tr th {\n",
       "        vertical-align: top;\n",
       "    }\n",
       "\n",
       "    .dataframe thead th {\n",
       "        text-align: right;\n",
       "    }\n",
       "</style>\n",
       "<table border=\"1\" class=\"dataframe\">\n",
       "  <thead>\n",
       "    <tr style=\"text-align: right;\">\n",
       "      <th></th>\n",
       "      <th></th>\n",
       "      <th></th>\n",
       "      <th></th>\n",
       "      <th></th>\n",
       "      <th></th>\n",
       "      <th>1765-01-01 00:00:00</th>\n",
       "      <th>1766-01-01 00:00:00</th>\n",
       "      <th>1767-01-01 00:00:00</th>\n",
       "      <th>1768-01-01 00:00:00</th>\n",
       "      <th>1769-01-01 00:00:00</th>\n",
       "      <th>1770-01-01 00:00:00</th>\n",
       "      <th>1771-01-01 00:00:00</th>\n",
       "      <th>1772-01-01 00:00:00</th>\n",
       "      <th>1773-01-01 00:00:00</th>\n",
       "      <th>1774-01-01 00:00:00</th>\n",
       "      <th>...</th>\n",
       "      <th>2191-01-01 00:00:00</th>\n",
       "      <th>2192-01-01 00:00:00</th>\n",
       "      <th>2193-01-01 00:00:00</th>\n",
       "      <th>2194-01-01 00:00:00</th>\n",
       "      <th>2195-01-01 00:00:00</th>\n",
       "      <th>2196-01-01 00:00:00</th>\n",
       "      <th>2197-01-01 00:00:00</th>\n",
       "      <th>2198-01-01 00:00:00</th>\n",
       "      <th>2199-01-01 00:00:00</th>\n",
       "      <th>2200-01-01 00:00:00</th>\n",
       "    </tr>\n",
       "    <tr>\n",
       "      <th>model</th>\n",
       "      <th>scenario</th>\n",
       "      <th>region</th>\n",
       "      <th>variable</th>\n",
       "      <th>unit</th>\n",
       "      <th>parameter_type</th>\n",
       "      <th></th>\n",
       "      <th></th>\n",
       "      <th></th>\n",
       "      <th></th>\n",
       "      <th></th>\n",
       "      <th></th>\n",
       "      <th></th>\n",
       "      <th></th>\n",
       "      <th></th>\n",
       "      <th></th>\n",
       "      <th></th>\n",
       "      <th></th>\n",
       "      <th></th>\n",
       "      <th></th>\n",
       "      <th></th>\n",
       "      <th></th>\n",
       "      <th></th>\n",
       "      <th></th>\n",
       "      <th></th>\n",
       "      <th></th>\n",
       "      <th></th>\n",
       "    </tr>\n",
       "  </thead>\n",
       "  <tbody>\n",
       "    <tr>\n",
       "      <th rowspan=\"5\" valign=\"top\">AIM</th>\n",
       "      <th rowspan=\"5\" valign=\"top\">RCP60</th>\n",
       "      <th rowspan=\"5\" valign=\"top\">World</th>\n",
       "      <th>Emissions|BC</th>\n",
       "      <th>Mt BC / yr</th>\n",
       "      <th>average</th>\n",
       "      <td>0.000000</td>\n",
       "      <td>0.106998</td>\n",
       "      <td>0.133383</td>\n",
       "      <td>0.159847</td>\n",
       "      <td>0.186393</td>\n",
       "      <td>0.213024</td>\n",
       "      <td>0.239742</td>\n",
       "      <td>0.266550</td>\n",
       "      <td>0.293450</td>\n",
       "      <td>0.320446</td>\n",
       "      <td>...</td>\n",
       "      <td>4.3615</td>\n",
       "      <td>4.3615</td>\n",
       "      <td>4.3615</td>\n",
       "      <td>4.3615</td>\n",
       "      <td>4.3615</td>\n",
       "      <td>4.3615</td>\n",
       "      <td>4.3615</td>\n",
       "      <td>4.3615</td>\n",
       "      <td>4.3615</td>\n",
       "      <td>4.3615</td>\n",
       "    </tr>\n",
       "    <tr>\n",
       "      <th>Emissions|C2F6</th>\n",
       "      <th>kt C2F6 / yr</th>\n",
       "      <th>average</th>\n",
       "      <td>0.000000</td>\n",
       "      <td>0.000000</td>\n",
       "      <td>0.000000</td>\n",
       "      <td>0.000000</td>\n",
       "      <td>0.000000</td>\n",
       "      <td>0.000000</td>\n",
       "      <td>0.000000</td>\n",
       "      <td>0.000000</td>\n",
       "      <td>0.000000</td>\n",
       "      <td>0.000000</td>\n",
       "      <td>...</td>\n",
       "      <td>0.0370</td>\n",
       "      <td>0.0370</td>\n",
       "      <td>0.0370</td>\n",
       "      <td>0.0370</td>\n",
       "      <td>0.0370</td>\n",
       "      <td>0.0370</td>\n",
       "      <td>0.0370</td>\n",
       "      <td>0.0370</td>\n",
       "      <td>0.0370</td>\n",
       "      <td>0.0370</td>\n",
       "    </tr>\n",
       "    <tr>\n",
       "      <th>Emissions|C6F14</th>\n",
       "      <th>kt C6F14 / yr</th>\n",
       "      <th>average</th>\n",
       "      <td>0.000000</td>\n",
       "      <td>0.000000</td>\n",
       "      <td>0.000000</td>\n",
       "      <td>0.000000</td>\n",
       "      <td>0.000000</td>\n",
       "      <td>0.000000</td>\n",
       "      <td>0.000000</td>\n",
       "      <td>0.000000</td>\n",
       "      <td>0.000000</td>\n",
       "      <td>0.000000</td>\n",
       "      <td>...</td>\n",
       "      <td>0.0058</td>\n",
       "      <td>0.0058</td>\n",
       "      <td>0.0058</td>\n",
       "      <td>0.0058</td>\n",
       "      <td>0.0058</td>\n",
       "      <td>0.0058</td>\n",
       "      <td>0.0058</td>\n",
       "      <td>0.0058</td>\n",
       "      <td>0.0058</td>\n",
       "      <td>0.0058</td>\n",
       "    </tr>\n",
       "    <tr>\n",
       "      <th>Emissions|CCl4</th>\n",
       "      <th>kt CCl4 / yr</th>\n",
       "      <th>average</th>\n",
       "      <td>0.000000</td>\n",
       "      <td>0.000000</td>\n",
       "      <td>0.000000</td>\n",
       "      <td>0.000000</td>\n",
       "      <td>0.000000</td>\n",
       "      <td>0.000000</td>\n",
       "      <td>0.000000</td>\n",
       "      <td>0.000000</td>\n",
       "      <td>0.000000</td>\n",
       "      <td>0.000000</td>\n",
       "      <td>...</td>\n",
       "      <td>0.1550</td>\n",
       "      <td>0.1550</td>\n",
       "      <td>0.1550</td>\n",
       "      <td>0.1550</td>\n",
       "      <td>0.1550</td>\n",
       "      <td>0.1550</td>\n",
       "      <td>0.1550</td>\n",
       "      <td>0.1550</td>\n",
       "      <td>0.1550</td>\n",
       "      <td>0.1550</td>\n",
       "    </tr>\n",
       "    <tr>\n",
       "      <th>Emissions|CF4</th>\n",
       "      <th>kt CF4 / yr</th>\n",
       "      <th>average</th>\n",
       "      <td>0.010763</td>\n",
       "      <td>0.010752</td>\n",
       "      <td>0.010748</td>\n",
       "      <td>0.010744</td>\n",
       "      <td>0.010740</td>\n",
       "      <td>0.010736</td>\n",
       "      <td>0.010731</td>\n",
       "      <td>0.010727</td>\n",
       "      <td>0.010723</td>\n",
       "      <td>0.010719</td>\n",
       "      <td>...</td>\n",
       "      <td>0.0822</td>\n",
       "      <td>0.0822</td>\n",
       "      <td>0.0822</td>\n",
       "      <td>0.0822</td>\n",
       "      <td>0.0822</td>\n",
       "      <td>0.0822</td>\n",
       "      <td>0.0822</td>\n",
       "      <td>0.0822</td>\n",
       "      <td>0.0822</td>\n",
       "      <td>0.0822</td>\n",
       "    </tr>\n",
       "  </tbody>\n",
       "</table>\n",
       "<p>5 rows × 436 columns</p>\n",
       "</div>"
      ],
      "text/plain": [
       "                                                                    1765-01-01  \\\n",
       "model scenario region variable        unit          parameter_type               \n",
       "AIM   RCP60    World  Emissions|BC    Mt BC / yr    average           0.000000   \n",
       "                      Emissions|C2F6  kt C2F6 / yr  average           0.000000   \n",
       "                      Emissions|C6F14 kt C6F14 / yr average           0.000000   \n",
       "                      Emissions|CCl4  kt CCl4 / yr  average           0.000000   \n",
       "                      Emissions|CF4   kt CF4 / yr   average           0.010763   \n",
       "\n",
       "                                                                    1766-01-01  \\\n",
       "model scenario region variable        unit          parameter_type               \n",
       "AIM   RCP60    World  Emissions|BC    Mt BC / yr    average           0.106998   \n",
       "                      Emissions|C2F6  kt C2F6 / yr  average           0.000000   \n",
       "                      Emissions|C6F14 kt C6F14 / yr average           0.000000   \n",
       "                      Emissions|CCl4  kt CCl4 / yr  average           0.000000   \n",
       "                      Emissions|CF4   kt CF4 / yr   average           0.010752   \n",
       "\n",
       "                                                                    1767-01-01  \\\n",
       "model scenario region variable        unit          parameter_type               \n",
       "AIM   RCP60    World  Emissions|BC    Mt BC / yr    average           0.133383   \n",
       "                      Emissions|C2F6  kt C2F6 / yr  average           0.000000   \n",
       "                      Emissions|C6F14 kt C6F14 / yr average           0.000000   \n",
       "                      Emissions|CCl4  kt CCl4 / yr  average           0.000000   \n",
       "                      Emissions|CF4   kt CF4 / yr   average           0.010748   \n",
       "\n",
       "                                                                    1768-01-01  \\\n",
       "model scenario region variable        unit          parameter_type               \n",
       "AIM   RCP60    World  Emissions|BC    Mt BC / yr    average           0.159847   \n",
       "                      Emissions|C2F6  kt C2F6 / yr  average           0.000000   \n",
       "                      Emissions|C6F14 kt C6F14 / yr average           0.000000   \n",
       "                      Emissions|CCl4  kt CCl4 / yr  average           0.000000   \n",
       "                      Emissions|CF4   kt CF4 / yr   average           0.010744   \n",
       "\n",
       "                                                                    1769-01-01  \\\n",
       "model scenario region variable        unit          parameter_type               \n",
       "AIM   RCP60    World  Emissions|BC    Mt BC / yr    average           0.186393   \n",
       "                      Emissions|C2F6  kt C2F6 / yr  average           0.000000   \n",
       "                      Emissions|C6F14 kt C6F14 / yr average           0.000000   \n",
       "                      Emissions|CCl4  kt CCl4 / yr  average           0.000000   \n",
       "                      Emissions|CF4   kt CF4 / yr   average           0.010740   \n",
       "\n",
       "                                                                    1770-01-01  \\\n",
       "model scenario region variable        unit          parameter_type               \n",
       "AIM   RCP60    World  Emissions|BC    Mt BC / yr    average           0.213024   \n",
       "                      Emissions|C2F6  kt C2F6 / yr  average           0.000000   \n",
       "                      Emissions|C6F14 kt C6F14 / yr average           0.000000   \n",
       "                      Emissions|CCl4  kt CCl4 / yr  average           0.000000   \n",
       "                      Emissions|CF4   kt CF4 / yr   average           0.010736   \n",
       "\n",
       "                                                                    1771-01-01  \\\n",
       "model scenario region variable        unit          parameter_type               \n",
       "AIM   RCP60    World  Emissions|BC    Mt BC / yr    average           0.239742   \n",
       "                      Emissions|C2F6  kt C2F6 / yr  average           0.000000   \n",
       "                      Emissions|C6F14 kt C6F14 / yr average           0.000000   \n",
       "                      Emissions|CCl4  kt CCl4 / yr  average           0.000000   \n",
       "                      Emissions|CF4   kt CF4 / yr   average           0.010731   \n",
       "\n",
       "                                                                    1772-01-01  \\\n",
       "model scenario region variable        unit          parameter_type               \n",
       "AIM   RCP60    World  Emissions|BC    Mt BC / yr    average           0.266550   \n",
       "                      Emissions|C2F6  kt C2F6 / yr  average           0.000000   \n",
       "                      Emissions|C6F14 kt C6F14 / yr average           0.000000   \n",
       "                      Emissions|CCl4  kt CCl4 / yr  average           0.000000   \n",
       "                      Emissions|CF4   kt CF4 / yr   average           0.010727   \n",
       "\n",
       "                                                                    1773-01-01  \\\n",
       "model scenario region variable        unit          parameter_type               \n",
       "AIM   RCP60    World  Emissions|BC    Mt BC / yr    average           0.293450   \n",
       "                      Emissions|C2F6  kt C2F6 / yr  average           0.000000   \n",
       "                      Emissions|C6F14 kt C6F14 / yr average           0.000000   \n",
       "                      Emissions|CCl4  kt CCl4 / yr  average           0.000000   \n",
       "                      Emissions|CF4   kt CF4 / yr   average           0.010723   \n",
       "\n",
       "                                                                    1774-01-01  \\\n",
       "model scenario region variable        unit          parameter_type               \n",
       "AIM   RCP60    World  Emissions|BC    Mt BC / yr    average           0.320446   \n",
       "                      Emissions|C2F6  kt C2F6 / yr  average           0.000000   \n",
       "                      Emissions|C6F14 kt C6F14 / yr average           0.000000   \n",
       "                      Emissions|CCl4  kt CCl4 / yr  average           0.000000   \n",
       "                      Emissions|CF4   kt CF4 / yr   average           0.010719   \n",
       "\n",
       "                                                                    ...  \\\n",
       "model scenario region variable        unit          parameter_type  ...   \n",
       "AIM   RCP60    World  Emissions|BC    Mt BC / yr    average         ...   \n",
       "                      Emissions|C2F6  kt C2F6 / yr  average         ...   \n",
       "                      Emissions|C6F14 kt C6F14 / yr average         ...   \n",
       "                      Emissions|CCl4  kt CCl4 / yr  average         ...   \n",
       "                      Emissions|CF4   kt CF4 / yr   average         ...   \n",
       "\n",
       "                                                                    2191-01-01  \\\n",
       "model scenario region variable        unit          parameter_type               \n",
       "AIM   RCP60    World  Emissions|BC    Mt BC / yr    average             4.3615   \n",
       "                      Emissions|C2F6  kt C2F6 / yr  average             0.0370   \n",
       "                      Emissions|C6F14 kt C6F14 / yr average             0.0058   \n",
       "                      Emissions|CCl4  kt CCl4 / yr  average             0.1550   \n",
       "                      Emissions|CF4   kt CF4 / yr   average             0.0822   \n",
       "\n",
       "                                                                    2192-01-01  \\\n",
       "model scenario region variable        unit          parameter_type               \n",
       "AIM   RCP60    World  Emissions|BC    Mt BC / yr    average             4.3615   \n",
       "                      Emissions|C2F6  kt C2F6 / yr  average             0.0370   \n",
       "                      Emissions|C6F14 kt C6F14 / yr average             0.0058   \n",
       "                      Emissions|CCl4  kt CCl4 / yr  average             0.1550   \n",
       "                      Emissions|CF4   kt CF4 / yr   average             0.0822   \n",
       "\n",
       "                                                                    2193-01-01  \\\n",
       "model scenario region variable        unit          parameter_type               \n",
       "AIM   RCP60    World  Emissions|BC    Mt BC / yr    average             4.3615   \n",
       "                      Emissions|C2F6  kt C2F6 / yr  average             0.0370   \n",
       "                      Emissions|C6F14 kt C6F14 / yr average             0.0058   \n",
       "                      Emissions|CCl4  kt CCl4 / yr  average             0.1550   \n",
       "                      Emissions|CF4   kt CF4 / yr   average             0.0822   \n",
       "\n",
       "                                                                    2194-01-01  \\\n",
       "model scenario region variable        unit          parameter_type               \n",
       "AIM   RCP60    World  Emissions|BC    Mt BC / yr    average             4.3615   \n",
       "                      Emissions|C2F6  kt C2F6 / yr  average             0.0370   \n",
       "                      Emissions|C6F14 kt C6F14 / yr average             0.0058   \n",
       "                      Emissions|CCl4  kt CCl4 / yr  average             0.1550   \n",
       "                      Emissions|CF4   kt CF4 / yr   average             0.0822   \n",
       "\n",
       "                                                                    2195-01-01  \\\n",
       "model scenario region variable        unit          parameter_type               \n",
       "AIM   RCP60    World  Emissions|BC    Mt BC / yr    average             4.3615   \n",
       "                      Emissions|C2F6  kt C2F6 / yr  average             0.0370   \n",
       "                      Emissions|C6F14 kt C6F14 / yr average             0.0058   \n",
       "                      Emissions|CCl4  kt CCl4 / yr  average             0.1550   \n",
       "                      Emissions|CF4   kt CF4 / yr   average             0.0822   \n",
       "\n",
       "                                                                    2196-01-01  \\\n",
       "model scenario region variable        unit          parameter_type               \n",
       "AIM   RCP60    World  Emissions|BC    Mt BC / yr    average             4.3615   \n",
       "                      Emissions|C2F6  kt C2F6 / yr  average             0.0370   \n",
       "                      Emissions|C6F14 kt C6F14 / yr average             0.0058   \n",
       "                      Emissions|CCl4  kt CCl4 / yr  average             0.1550   \n",
       "                      Emissions|CF4   kt CF4 / yr   average             0.0822   \n",
       "\n",
       "                                                                    2197-01-01  \\\n",
       "model scenario region variable        unit          parameter_type               \n",
       "AIM   RCP60    World  Emissions|BC    Mt BC / yr    average             4.3615   \n",
       "                      Emissions|C2F6  kt C2F6 / yr  average             0.0370   \n",
       "                      Emissions|C6F14 kt C6F14 / yr average             0.0058   \n",
       "                      Emissions|CCl4  kt CCl4 / yr  average             0.1550   \n",
       "                      Emissions|CF4   kt CF4 / yr   average             0.0822   \n",
       "\n",
       "                                                                    2198-01-01  \\\n",
       "model scenario region variable        unit          parameter_type               \n",
       "AIM   RCP60    World  Emissions|BC    Mt BC / yr    average             4.3615   \n",
       "                      Emissions|C2F6  kt C2F6 / yr  average             0.0370   \n",
       "                      Emissions|C6F14 kt C6F14 / yr average             0.0058   \n",
       "                      Emissions|CCl4  kt CCl4 / yr  average             0.1550   \n",
       "                      Emissions|CF4   kt CF4 / yr   average             0.0822   \n",
       "\n",
       "                                                                    2199-01-01  \\\n",
       "model scenario region variable        unit          parameter_type               \n",
       "AIM   RCP60    World  Emissions|BC    Mt BC / yr    average             4.3615   \n",
       "                      Emissions|C2F6  kt C2F6 / yr  average             0.0370   \n",
       "                      Emissions|C6F14 kt C6F14 / yr average             0.0058   \n",
       "                      Emissions|CCl4  kt CCl4 / yr  average             0.1550   \n",
       "                      Emissions|CF4   kt CF4 / yr   average             0.0822   \n",
       "\n",
       "                                                                    2200-01-01  \n",
       "model scenario region variable        unit          parameter_type              \n",
       "AIM   RCP60    World  Emissions|BC    Mt BC / yr    average             4.3615  \n",
       "                      Emissions|C2F6  kt C2F6 / yr  average             0.0370  \n",
       "                      Emissions|C6F14 kt C6F14 / yr average             0.0058  \n",
       "                      Emissions|CCl4  kt CCl4 / yr  average             0.1550  \n",
       "                      Emissions|CF4   kt CF4 / yr   average             0.0822  \n",
       "\n",
       "[5 rows x 436 columns]"
      ]
     },
     "execution_count": 7,
     "metadata": {},
     "output_type": "execute_result"
    }
   ],
   "source": [
    "# NBVAL_IGNORE_OUTPUT\n",
    "df.timeseries().head()"
   ]
  },
  {
   "cell_type": "markdown",
   "metadata": {},
   "source": [
    "Pyam's plotting functions provide great defaults for making all sorts of informative plots."
   ]
  },
  {
   "cell_type": "code",
   "execution_count": 8,
   "metadata": {},
   "outputs": [
    {
     "data": {
      "image/png": "[encoded data removed]",
      "text/plain": [
       "<Figure size 432x288 with 1 Axes>"
      ]
     },
     "metadata": {},
     "output_type": "display_data"
    }
   ],
   "source": [
    "df.filter(variable='Emissions|BC').line_plot(\n",
    "    x=\"time\",\n",
    "    color='scenario', \n",
    "    legend=dict(loc='center left', bbox_to_anchor=(1.0, 0.5))\n",
    ");"
   ]
  },
  {
   "cell_type": "markdown",
   "metadata": {},
   "source": [
    "The use of a `pd.DataFrame` underneath the hood makes integration with other tools, like seaborn, trivial."
   ]
  },
  {
   "cell_type": "code",
   "execution_count": 9,
   "metadata": {},
   "outputs": [
    {
     "data": {
      "image/png": "[encoded data removed]",
      "text/plain": [
       "<Figure size 441.225x360 with 1 Axes>"
      ]
     },
     "metadata": {},
     "output_type": "display_data"
    }
   ],
   "source": [
    "emissions_bc = df.filter(\n",
    "    variable=\"Emissions|BC\"\n",
    ").data\n",
    "sns.relplot(\n",
    "    x=\"time\",\n",
    "    y=\"value\",\n",
    "    kind=\"line\",\n",
    "    col=\"region\",\n",
    "    hue=\"scenario\",\n",
    "    data=emissions_bc,\n",
    "    ci=None,\n",
    "    facet_kws={\"sharey\": False},\n",
    ");"
   ]
  },
  {
   "cell_type": "markdown",
   "metadata": {},
   "source": [
    "## Running scenarios\n",
    "\n",
    "OpenSCM can directly run scenarios from a `pyam.IamDataFrame` as shown."
   ]
  },
  {
   "cell_type": "code",
   "execution_count": 10,
   "metadata": {},
   "outputs": [
    {
     "name": "stdout",
     "output_type": "stream",
     "text": [
      "{'model': 'AIM', 'scenario': 'RCP60'}\n",
      "{'model': 'IMAGE', 'scenario': 'RCP26'}\n",
      "{'model': 'MESSAGE', 'scenario': 'RCP85'}\n",
      "{'model': 'MiniCAM', 'scenario': 'RCP45'}\n"
     ]
    }
   ],
   "source": [
    "for i, label in ScmDataFrame(df)[[\"model\", \"scenario\"]].drop_duplicates().iterrows():\n",
    "    print(label.to_dict())"
   ]
  },
  {
   "cell_type": "code",
   "execution_count": 11,
   "metadata": {},
   "outputs": [
    {
     "data": {
      "application/vnd.jupyter.widget-view+json": {
       "model_id": "4a380f2460bf47549c32c4f34c5de120",
       "version_major": 2,
       "version_minor": 0
      },
      "text/plain": [
       "HBox(children=(IntProgress(value=0, description='Climate Models', max=3, style=ProgressStyle(description_width…"
      ]
     },
     "metadata": {},
     "output_type": "display_data"
    },
    {
     "data": {
      "application/vnd.jupyter.widget-view+json": {
       "model_id": "ffedb621c8494e8e8b460a5e26e70f5a",
       "version_major": 2,
       "version_minor": 0
      },
      "text/plain": [
       "HBox(children=(IntProgress(value=0, description='PH99', max=4, style=ProgressStyle(description_width='initial'…"
      ]
     },
     "metadata": {},
     "output_type": "display_data"
    },
    {
     "name": "stderr",
     "output_type": "stream",
     "text": [
      "Rounding PH99 timestep to nearest integer\n"
     ]
    },
    {
     "name": "stdout",
     "output_type": "stream",
     "text": [
      "\n"
     ]
    },
    {
     "data": {
      "application/vnd.jupyter.widget-view+json": {
       "model_id": "bf5e0cd747934fe1b584f0a39a5baa90",
       "version_major": 2,
       "version_minor": 0
      },
      "text/plain": [
       "HBox(children=(IntProgress(value=0, description='MAGICC6', max=4, style=ProgressStyle(description_width='initi…"
      ]
     },
     "metadata": {},
     "output_type": "display_data"
    },
    {
     "name": "stderr",
     "output_type": "stream",
     "text": [
      "Ignoring input data which is not required for .SCEN file\n",
      "MAGICC6 hard-coded to start in 1765 as there is a conflict between the concept of a start year and having continuous timeseries\n",
      "Not returning parameters without units\n",
      "Ignoring input data which is not required for .SCEN file\n",
      "MAGICC6 hard-coded to start in 1765 as there is a conflict between the concept of a start year and having continuous timeseries\n",
      "Not returning parameters without units\n",
      "Ignoring input data which is not required for .SCEN file\n",
      "MAGICC6 hard-coded to start in 1765 as there is a conflict between the concept of a start year and having continuous timeseries\n",
      "Not returning parameters without units\n",
      "Ignoring input data which is not required for .SCEN file\n",
      "MAGICC6 hard-coded to start in 1765 as there is a conflict between the concept of a start year and having continuous timeseries\n"
     ]
    },
    {
     "name": "stdout",
     "output_type": "stream",
     "text": [
      "\n"
     ]
    },
    {
     "name": "stderr",
     "output_type": "stream",
     "text": [
      "Not returning parameters without units\n"
     ]
    },
    {
     "data": {
      "application/vnd.jupyter.widget-view+json": {
       "model_id": "17627341ce584f15b8527f4b0041f61c",
       "version_major": 2,
       "version_minor": 0
      },
      "text/plain": [
       "HBox(children=(IntProgress(value=0, description='DICE', max=4, style=ProgressStyle(description_width='initial'…"
      ]
     },
     "metadata": {},
     "output_type": "display_data"
    },
    {
     "name": "stdout",
     "output_type": "stream",
     "text": [
      "\n",
      "\n"
     ]
    }
   ],
   "source": [
    "output_iamdf = run(\n",
    "    df, \n",
    "    [\"PH99\", \"MAGICC6\", \"DICE\"],\n",
    "    output_time_points=[np.datetime64(\"{}-01-01\".format(y)) for y in range(1800, 2151)],\n",
    ")"
   ]
  },
  {
   "cell_type": "code",
   "execution_count": 12,
   "metadata": {},
   "outputs": [
    {
     "data": {
      "text/plain": [
       "openscm.scmdataframe.pyam_compat.LongDatetimeIamDataFrame"
      ]
     },
     "execution_count": 12,
     "metadata": {},
     "output_type": "execute_result"
    }
   ],
   "source": [
    "type(output_iamdf)"
   ]
  },
  {
   "cell_type": "code",
   "execution_count": 13,
   "metadata": {},
   "outputs": [
    {
     "data": {
      "text/html": [
       "<div>\n",
       "<style scoped>\n",
       "    .dataframe tbody tr th:only-of-type {\n",
       "        vertical-align: middle;\n",
       "    }\n",
       "\n",
       "    .dataframe tbody tr th {\n",
       "        vertical-align: top;\n",
       "    }\n",
       "\n",
       "    .dataframe thead th {\n",
       "        text-align: right;\n",
       "    }\n",
       "</style>\n",
       "<table border=\"1\" class=\"dataframe\">\n",
       "  <thead>\n",
       "    <tr style=\"text-align: right;\">\n",
       "      <th></th>\n",
       "      <th>model</th>\n",
       "      <th>scenario</th>\n",
       "      <th>region</th>\n",
       "      <th>variable</th>\n",
       "      <th>unit</th>\n",
       "      <th>time</th>\n",
       "      <th>climate_model</th>\n",
       "      <th>magicc6|core_climatesensitivity (delta_degc)</th>\n",
       "      <th>radiative forcing 2xco2 (delta_degc * joule / a / kelvin / meter ** 2)</th>\n",
       "      <th>magicc6|core_delq2xco2 (w/m^2)</th>\n",
       "      <th>parameter_type</th>\n",
       "      <th>todo</th>\n",
       "      <th>equilibrium climate sensitivity (kelvin)</th>\n",
       "      <th>value</th>\n",
       "    </tr>\n",
       "  </thead>\n",
       "  <tbody>\n",
       "    <tr>\n",
       "      <th>0</th>\n",
       "      <td>AIM</td>\n",
       "      <td>RCP60</td>\n",
       "      <td>World</td>\n",
       "      <td>Atmospheric Concentrations|CH4</td>\n",
       "      <td>ppb</td>\n",
       "      <td>1800-01-01</td>\n",
       "      <td>MAGICC6</td>\n",
       "      <td>3.0</td>\n",
       "      <td>-999.0</td>\n",
       "      <td>3.71</td>\n",
       "      <td>point</td>\n",
       "      <td>N/A</td>\n",
       "      <td>-999.0</td>\n",
       "      <td>742.00075</td>\n",
       "    </tr>\n",
       "    <tr>\n",
       "      <th>1</th>\n",
       "      <td>AIM</td>\n",
       "      <td>RCP60</td>\n",
       "      <td>World</td>\n",
       "      <td>Atmospheric Concentrations|CH4</td>\n",
       "      <td>ppb</td>\n",
       "      <td>1801-01-01</td>\n",
       "      <td>MAGICC6</td>\n",
       "      <td>3.0</td>\n",
       "      <td>-999.0</td>\n",
       "      <td>3.71</td>\n",
       "      <td>point</td>\n",
       "      <td>N/A</td>\n",
       "      <td>-999.0</td>\n",
       "      <td>742.82581</td>\n",
       "    </tr>\n",
       "    <tr>\n",
       "      <th>2</th>\n",
       "      <td>AIM</td>\n",
       "      <td>RCP60</td>\n",
       "      <td>World</td>\n",
       "      <td>Atmospheric Concentrations|CH4</td>\n",
       "      <td>ppb</td>\n",
       "      <td>1802-01-01</td>\n",
       "      <td>MAGICC6</td>\n",
       "      <td>3.0</td>\n",
       "      <td>-999.0</td>\n",
       "      <td>3.71</td>\n",
       "      <td>point</td>\n",
       "      <td>N/A</td>\n",
       "      <td>-999.0</td>\n",
       "      <td>743.69409</td>\n",
       "    </tr>\n",
       "    <tr>\n",
       "      <th>3</th>\n",
       "      <td>AIM</td>\n",
       "      <td>RCP60</td>\n",
       "      <td>World</td>\n",
       "      <td>Atmospheric Concentrations|CH4</td>\n",
       "      <td>ppb</td>\n",
       "      <td>1803-01-01</td>\n",
       "      <td>MAGICC6</td>\n",
       "      <td>3.0</td>\n",
       "      <td>-999.0</td>\n",
       "      <td>3.71</td>\n",
       "      <td>point</td>\n",
       "      <td>N/A</td>\n",
       "      <td>-999.0</td>\n",
       "      <td>744.59779</td>\n",
       "    </tr>\n",
       "    <tr>\n",
       "      <th>4</th>\n",
       "      <td>AIM</td>\n",
       "      <td>RCP60</td>\n",
       "      <td>World</td>\n",
       "      <td>Atmospheric Concentrations|CH4</td>\n",
       "      <td>ppb</td>\n",
       "      <td>1804-01-01</td>\n",
       "      <td>MAGICC6</td>\n",
       "      <td>3.0</td>\n",
       "      <td>-999.0</td>\n",
       "      <td>3.71</td>\n",
       "      <td>point</td>\n",
       "      <td>N/A</td>\n",
       "      <td>-999.0</td>\n",
       "      <td>745.52913</td>\n",
       "    </tr>\n",
       "  </tbody>\n",
       "</table>\n",
       "</div>"
      ],
      "text/plain": [
       "  model scenario region                        variable unit       time  \\\n",
       "0   AIM    RCP60  World  Atmospheric Concentrations|CH4  ppb 1800-01-01   \n",
       "1   AIM    RCP60  World  Atmospheric Concentrations|CH4  ppb 1801-01-01   \n",
       "2   AIM    RCP60  World  Atmospheric Concentrations|CH4  ppb 1802-01-01   \n",
       "3   AIM    RCP60  World  Atmospheric Concentrations|CH4  ppb 1803-01-01   \n",
       "4   AIM    RCP60  World  Atmospheric Concentrations|CH4  ppb 1804-01-01   \n",
       "\n",
       "  climate_model  magicc6|core_climatesensitivity (delta_degc)  \\\n",
       "0       MAGICC6                                           3.0   \n",
       "1       MAGICC6                                           3.0   \n",
       "2       MAGICC6                                           3.0   \n",
       "3       MAGICC6                                           3.0   \n",
       "4       MAGICC6                                           3.0   \n",
       "\n",
       "   radiative forcing 2xco2 (delta_degc * joule / a / kelvin / meter ** 2)  \\\n",
       "0                                             -999.0                        \n",
       "1                                             -999.0                        \n",
       "2                                             -999.0                        \n",
       "3                                             -999.0                        \n",
       "4                                             -999.0                        \n",
       "\n",
       "   magicc6|core_delq2xco2 (w/m^2) parameter_type todo  \\\n",
       "0                            3.71          point  N/A   \n",
       "1                            3.71          point  N/A   \n",
       "2                            3.71          point  N/A   \n",
       "3                            3.71          point  N/A   \n",
       "4                            3.71          point  N/A   \n",
       "\n",
       "   equilibrium climate sensitivity (kelvin)      value  \n",
       "0                                    -999.0  742.00075  \n",
       "1                                    -999.0  742.82581  \n",
       "2                                    -999.0  743.69409  \n",
       "3                                    -999.0  744.59779  \n",
       "4                                    -999.0  745.52913  "
      ]
     },
     "execution_count": 13,
     "metadata": {},
     "output_type": "execute_result"
    }
   ],
   "source": [
    "output_iamdf.head()"
   ]
  },
  {
   "cell_type": "code",
   "execution_count": 14,
   "metadata": {},
   "outputs": [
    {
     "data": {
      "text/html": [
       "<div>\n",
       "<style scoped>\n",
       "    .dataframe tbody tr th:only-of-type {\n",
       "        vertical-align: middle;\n",
       "    }\n",
       "\n",
       "    .dataframe tbody tr th {\n",
       "        vertical-align: top;\n",
       "    }\n",
       "\n",
       "    .dataframe thead th {\n",
       "        text-align: right;\n",
       "    }\n",
       "</style>\n",
       "<table border=\"1\" class=\"dataframe\">\n",
       "  <thead>\n",
       "    <tr style=\"text-align: right;\">\n",
       "      <th></th>\n",
       "      <th>model</th>\n",
       "      <th>scenario</th>\n",
       "      <th>region</th>\n",
       "      <th>variable</th>\n",
       "      <th>unit</th>\n",
       "      <th>time</th>\n",
       "      <th>climate_model</th>\n",
       "      <th>magicc6|core_climatesensitivity (delta_degc)</th>\n",
       "      <th>radiative forcing 2xco2 (delta_degc * joule / a / kelvin / meter ** 2)</th>\n",
       "      <th>magicc6|core_delq2xco2 (w/m^2)</th>\n",
       "      <th>parameter_type</th>\n",
       "      <th>todo</th>\n",
       "      <th>equilibrium climate sensitivity (kelvin)</th>\n",
       "      <th>value</th>\n",
       "    </tr>\n",
       "  </thead>\n",
       "  <tbody>\n",
       "    <tr>\n",
       "      <th>28075</th>\n",
       "      <td>MiniCAM</td>\n",
       "      <td>RCP45</td>\n",
       "      <td>World</td>\n",
       "      <td>Surface Temperature Increase</td>\n",
       "      <td>delta_degC</td>\n",
       "      <td>2148-01-01</td>\n",
       "      <td>PH99</td>\n",
       "      <td>-999.0</td>\n",
       "      <td>116580000.0</td>\n",
       "      <td>-999.0</td>\n",
       "      <td>point</td>\n",
       "      <td>-999</td>\n",
       "      <td>3.547283</td>\n",
       "      <td>17.135057</td>\n",
       "    </tr>\n",
       "    <tr>\n",
       "      <th>28076</th>\n",
       "      <td>MiniCAM</td>\n",
       "      <td>RCP45</td>\n",
       "      <td>World</td>\n",
       "      <td>Surface Temperature Increase</td>\n",
       "      <td>delta_degC</td>\n",
       "      <td>2149-01-01</td>\n",
       "      <td>DICE</td>\n",
       "      <td>-999.0</td>\n",
       "      <td>-999.0</td>\n",
       "      <td>-999.0</td>\n",
       "      <td>point</td>\n",
       "      <td>-999</td>\n",
       "      <td>-999.000000</td>\n",
       "      <td>3.475934</td>\n",
       "    </tr>\n",
       "    <tr>\n",
       "      <th>28077</th>\n",
       "      <td>MiniCAM</td>\n",
       "      <td>RCP45</td>\n",
       "      <td>World</td>\n",
       "      <td>Surface Temperature Increase</td>\n",
       "      <td>delta_degC</td>\n",
       "      <td>2149-01-01</td>\n",
       "      <td>PH99</td>\n",
       "      <td>-999.0</td>\n",
       "      <td>116580000.0</td>\n",
       "      <td>-999.0</td>\n",
       "      <td>point</td>\n",
       "      <td>-999</td>\n",
       "      <td>3.547283</td>\n",
       "      <td>17.132120</td>\n",
       "    </tr>\n",
       "    <tr>\n",
       "      <th>28078</th>\n",
       "      <td>MiniCAM</td>\n",
       "      <td>RCP45</td>\n",
       "      <td>World</td>\n",
       "      <td>Surface Temperature Increase</td>\n",
       "      <td>delta_degC</td>\n",
       "      <td>2150-01-01</td>\n",
       "      <td>DICE</td>\n",
       "      <td>-999.0</td>\n",
       "      <td>-999.0</td>\n",
       "      <td>-999.0</td>\n",
       "      <td>point</td>\n",
       "      <td>-999</td>\n",
       "      <td>-999.000000</td>\n",
       "      <td>3.474132</td>\n",
       "    </tr>\n",
       "    <tr>\n",
       "      <th>28079</th>\n",
       "      <td>MiniCAM</td>\n",
       "      <td>RCP45</td>\n",
       "      <td>World</td>\n",
       "      <td>Surface Temperature Increase</td>\n",
       "      <td>delta_degC</td>\n",
       "      <td>2150-01-01</td>\n",
       "      <td>PH99</td>\n",
       "      <td>-999.0</td>\n",
       "      <td>116580000.0</td>\n",
       "      <td>-999.0</td>\n",
       "      <td>point</td>\n",
       "      <td>-999</td>\n",
       "      <td>3.547283</td>\n",
       "      <td>17.129081</td>\n",
       "    </tr>\n",
       "  </tbody>\n",
       "</table>\n",
       "</div>"
      ],
      "text/plain": [
       "         model scenario region                      variable        unit  \\\n",
       "28075  MiniCAM    RCP45  World  Surface Temperature Increase  delta_degC   \n",
       "28076  MiniCAM    RCP45  World  Surface Temperature Increase  delta_degC   \n",
       "28077  MiniCAM    RCP45  World  Surface Temperature Increase  delta_degC   \n",
       "28078  MiniCAM    RCP45  World  Surface Temperature Increase  delta_degC   \n",
       "28079  MiniCAM    RCP45  World  Surface Temperature Increase  delta_degC   \n",
       "\n",
       "            time climate_model  magicc6|core_climatesensitivity (delta_degc)  \\\n",
       "28075 2148-01-01          PH99                                        -999.0   \n",
       "28076 2149-01-01          DICE                                        -999.0   \n",
       "28077 2149-01-01          PH99                                        -999.0   \n",
       "28078 2150-01-01          DICE                                        -999.0   \n",
       "28079 2150-01-01          PH99                                        -999.0   \n",
       "\n",
       "       radiative forcing 2xco2 (delta_degc * joule / a / kelvin / meter ** 2)  \\\n",
       "28075                                        116580000.0                        \n",
       "28076                                             -999.0                        \n",
       "28077                                        116580000.0                        \n",
       "28078                                             -999.0                        \n",
       "28079                                        116580000.0                        \n",
       "\n",
       "       magicc6|core_delq2xco2 (w/m^2) parameter_type  todo  \\\n",
       "28075                          -999.0          point  -999   \n",
       "28076                          -999.0          point  -999   \n",
       "28077                          -999.0          point  -999   \n",
       "28078                          -999.0          point  -999   \n",
       "28079                          -999.0          point  -999   \n",
       "\n",
       "       equilibrium climate sensitivity (kelvin)      value  \n",
       "28075                                  3.547283  17.135057  \n",
       "28076                               -999.000000   3.475934  \n",
       "28077                                  3.547283  17.132120  \n",
       "28078                               -999.000000   3.474132  \n",
       "28079                                  3.547283  17.129081  "
      ]
     },
     "execution_count": 14,
     "metadata": {},
     "output_type": "execute_result"
    }
   ],
   "source": [
    "output_iamdf.tail()"
   ]
  },
  {
   "cell_type": "code",
   "execution_count": 15,
   "metadata": {},
   "outputs": [
    {
     "data": {
      "application/vnd.jupyter.widget-view+json": {
       "model_id": "85cbbea0ef2b47978e1df53dc9e051a2",
       "version_major": 2,
       "version_minor": 0
      },
      "text/plain": [
       "HBox(children=(IntProgress(value=0, description='Climate Models', max=3, style=ProgressStyle(description_width…"
      ]
     },
     "metadata": {},
     "output_type": "display_data"
    },
    {
     "data": {
      "application/vnd.jupyter.widget-view+json": {
       "model_id": "fa78abdb7ebc4003861e0d66aa4e1252",
       "version_major": 2,
       "version_minor": 0
      },
      "text/plain": [
       "HBox(children=(IntProgress(value=0, description='PH99', max=4, style=ProgressStyle(description_width='initial'…"
      ]
     },
     "metadata": {},
     "output_type": "display_data"
    },
    {
     "name": "stderr",
     "output_type": "stream",
     "text": [
      "Rounding PH99 timestep to nearest integer\n"
     ]
    },
    {
     "name": "stdout",
     "output_type": "stream",
     "text": [
      "\n"
     ]
    },
    {
     "data": {
      "application/vnd.jupyter.widget-view+json": {
       "model_id": "5b89e94cf3904494a948cb2c40fd2bff",
       "version_major": 2,
       "version_minor": 0
      },
      "text/plain": [
       "HBox(children=(IntProgress(value=0, description='DICE', max=4, style=ProgressStyle(description_width='initial'…"
      ]
     },
     "metadata": {},
     "output_type": "display_data"
    },
    {
     "name": "stdout",
     "output_type": "stream",
     "text": [
      "\n"
     ]
    },
    {
     "data": {
      "application/vnd.jupyter.widget-view+json": {
       "model_id": "5d46d222220344aba2fe166ce2e47e2b",
       "version_major": 2,
       "version_minor": 0
      },
      "text/plain": [
       "HBox(children=(IntProgress(value=0, description='MAGICC6', max=4, style=ProgressStyle(description_width='initi…"
      ]
     },
     "metadata": {},
     "output_type": "display_data"
    },
    {
     "name": "stderr",
     "output_type": "stream",
     "text": [
      "Ignoring input data which is not required for .SCEN file\n",
      "MAGICC6 hard-coded to start in 1765 as there is a conflict between the concept of a start year and having continuous timeseries\n",
      "Not returning parameters without units\n",
      "Ignoring input data which is not required for .SCEN file\n",
      "MAGICC6 hard-coded to start in 1765 as there is a conflict between the concept of a start year and having continuous timeseries\n",
      "Not returning parameters without units\n",
      "Ignoring input data which is not required for .SCEN file\n",
      "MAGICC6 hard-coded to start in 1765 as there is a conflict between the concept of a start year and having continuous timeseries\n",
      "Not returning parameters without units\n",
      "Ignoring input data which is not required for .SCEN file\n",
      "MAGICC6 hard-coded to start in 1765 as there is a conflict between the concept of a start year and having continuous timeseries\n",
      "Not returning parameters without units\n"
     ]
    },
    {
     "name": "stdout",
     "output_type": "stream",
     "text": [
      "\n",
      "\n"
     ]
    },
    {
     "data": {
      "text/plain": [
       "openscm.scmdataframe.ScmDataFrame"
      ]
     },
     "execution_count": 15,
     "metadata": {},
     "output_type": "execute_result"
    }
   ],
   "source": [
    "output_scmdf =  run(\n",
    "    ScmDataFrame(df), \n",
    "    [\"PH99\", \"DICE\", \"MAGICC6\"],\n",
    ")\n",
    "type(output_scmdf)"
   ]
  },
  {
   "cell_type": "code",
   "execution_count": 16,
   "metadata": {},
   "outputs": [
    {
     "data": {
      "text/html": [
       "<div>\n",
       "<style scoped>\n",
       "    .dataframe tbody tr th:only-of-type {\n",
       "        vertical-align: middle;\n",
       "    }\n",
       "\n",
       "    .dataframe tbody tr th {\n",
       "        vertical-align: top;\n",
       "    }\n",
       "\n",
       "    .dataframe thead th {\n",
       "        text-align: right;\n",
       "    }\n",
       "</style>\n",
       "<table border=\"1\" class=\"dataframe\">\n",
       "  <thead>\n",
       "    <tr style=\"text-align: right;\">\n",
       "      <th></th>\n",
       "      <th></th>\n",
       "      <th></th>\n",
       "      <th></th>\n",
       "      <th></th>\n",
       "      <th></th>\n",
       "      <th></th>\n",
       "      <th></th>\n",
       "      <th></th>\n",
       "      <th></th>\n",
       "      <th></th>\n",
       "      <th>time</th>\n",
       "      <th>1765-01-01 00:00:00</th>\n",
       "      <th>1766-01-01 00:00:00</th>\n",
       "      <th>1767-01-01 00:00:00</th>\n",
       "      <th>1768-01-01 00:00:00</th>\n",
       "      <th>1769-01-01 00:00:00</th>\n",
       "      <th>1770-01-01 00:00:00</th>\n",
       "      <th>1771-01-01 00:00:00</th>\n",
       "      <th>1772-01-01 00:00:00</th>\n",
       "      <th>1773-01-01 00:00:00</th>\n",
       "      <th>1774-01-01 00:00:00</th>\n",
       "      <th>...</th>\n",
       "      <th>2091-01-01 00:00:00</th>\n",
       "      <th>2092-01-01 00:00:00</th>\n",
       "      <th>2093-01-01 00:00:00</th>\n",
       "      <th>2094-01-01 00:00:00</th>\n",
       "      <th>2095-01-01 00:00:00</th>\n",
       "      <th>2096-01-01 00:00:00</th>\n",
       "      <th>2097-01-01 00:00:00</th>\n",
       "      <th>2098-01-01 00:00:00</th>\n",
       "      <th>2099-01-01 00:00:00</th>\n",
       "      <th>2100-01-01 00:00:00</th>\n",
       "    </tr>\n",
       "    <tr>\n",
       "      <th>model</th>\n",
       "      <th>scenario</th>\n",
       "      <th>region</th>\n",
       "      <th>variable</th>\n",
       "      <th>unit</th>\n",
       "      <th>climate_model</th>\n",
       "      <th>equilibrium climate sensitivity (kelvin)</th>\n",
       "      <th>magicc6|core_climatesensitivity (delta_degc)</th>\n",
       "      <th>magicc6|core_delq2xco2 (w/m^2)</th>\n",
       "      <th>parameter_type</th>\n",
       "      <th>radiative forcing 2xco2 (delta_degc * joule / a / kelvin / meter ** 2)</th>\n",
       "      <th>todo</th>\n",
       "      <th></th>\n",
       "      <th></th>\n",
       "      <th></th>\n",
       "      <th></th>\n",
       "      <th></th>\n",
       "      <th></th>\n",
       "      <th></th>\n",
       "      <th></th>\n",
       "      <th></th>\n",
       "      <th></th>\n",
       "      <th></th>\n",
       "      <th></th>\n",
       "      <th></th>\n",
       "      <th></th>\n",
       "      <th></th>\n",
       "      <th></th>\n",
       "      <th></th>\n",
       "      <th></th>\n",
       "      <th></th>\n",
       "      <th></th>\n",
       "      <th></th>\n",
       "    </tr>\n",
       "  </thead>\n",
       "  <tbody>\n",
       "    <tr>\n",
       "      <th>AIM</th>\n",
       "      <th>RCP60</th>\n",
       "      <th>World</th>\n",
       "      <th>Radiative Forcing|CO2</th>\n",
       "      <th>W/m^2</th>\n",
       "      <th>DICE</th>\n",
       "      <th>-999.0</th>\n",
       "      <th>-999.0</th>\n",
       "      <th>-999.0</th>\n",
       "      <th>average</th>\n",
       "      <th>-999.0</th>\n",
       "      <th>-999</th>\n",
       "      <td>2.142363</td>\n",
       "      <td>2.123934</td>\n",
       "      <td>2.105980</td>\n",
       "      <td>2.088467</td>\n",
       "      <td>2.071411</td>\n",
       "      <td>2.054835</td>\n",
       "      <td>2.038691</td>\n",
       "      <td>2.022963</td>\n",
       "      <td>2.007659</td>\n",
       "      <td>1.992799</td>\n",
       "      <td>...</td>\n",
       "      <td>5.908613</td>\n",
       "      <td>5.927994</td>\n",
       "      <td>5.947038</td>\n",
       "      <td>5.965713</td>\n",
       "      <td>5.984040</td>\n",
       "      <td>6.002060</td>\n",
       "      <td>6.019758</td>\n",
       "      <td>6.037123</td>\n",
       "      <td>6.054185</td>\n",
       "      <td>6.070784</td>\n",
       "    </tr>\n",
       "    <tr>\n",
       "      <th>IMAGE</th>\n",
       "      <th>RCP26</th>\n",
       "      <th>World</th>\n",
       "      <th>Radiative Forcing|CO2</th>\n",
       "      <th>W/m^2</th>\n",
       "      <th>DICE</th>\n",
       "      <th>-999.0</th>\n",
       "      <th>-999.0</th>\n",
       "      <th>-999.0</th>\n",
       "      <th>average</th>\n",
       "      <th>-999.0</th>\n",
       "      <th>-999</th>\n",
       "      <td>2.142363</td>\n",
       "      <td>2.123934</td>\n",
       "      <td>2.105980</td>\n",
       "      <td>2.088467</td>\n",
       "      <td>2.071411</td>\n",
       "      <td>2.054835</td>\n",
       "      <td>2.038691</td>\n",
       "      <td>2.022963</td>\n",
       "      <td>2.007659</td>\n",
       "      <td>1.992799</td>\n",
       "      <td>...</td>\n",
       "      <td>3.750885</td>\n",
       "      <td>3.739859</td>\n",
       "      <td>3.729016</td>\n",
       "      <td>3.718368</td>\n",
       "      <td>3.707881</td>\n",
       "      <td>3.697545</td>\n",
       "      <td>3.687371</td>\n",
       "      <td>3.677374</td>\n",
       "      <td>3.667532</td>\n",
       "      <td>3.657663</td>\n",
       "    </tr>\n",
       "    <tr>\n",
       "      <th>MESSAGE</th>\n",
       "      <th>RCP85</th>\n",
       "      <th>World</th>\n",
       "      <th>Radiative Forcing|CO2</th>\n",
       "      <th>W/m^2</th>\n",
       "      <th>DICE</th>\n",
       "      <th>-999.0</th>\n",
       "      <th>-999.0</th>\n",
       "      <th>-999.0</th>\n",
       "      <th>average</th>\n",
       "      <th>-999.0</th>\n",
       "      <th>-999</th>\n",
       "      <td>2.142363</td>\n",
       "      <td>2.123934</td>\n",
       "      <td>2.105980</td>\n",
       "      <td>2.088467</td>\n",
       "      <td>2.071411</td>\n",
       "      <td>2.054835</td>\n",
       "      <td>2.038691</td>\n",
       "      <td>2.022963</td>\n",
       "      <td>2.007659</td>\n",
       "      <td>1.992799</td>\n",
       "      <td>...</td>\n",
       "      <td>7.196448</td>\n",
       "      <td>7.235741</td>\n",
       "      <td>7.274491</td>\n",
       "      <td>7.312670</td>\n",
       "      <td>7.350333</td>\n",
       "      <td>7.387555</td>\n",
       "      <td>7.424301</td>\n",
       "      <td>7.460540</td>\n",
       "      <td>7.496335</td>\n",
       "      <td>7.531521</td>\n",
       "    </tr>\n",
       "    <tr>\n",
       "      <th>MiniCAM</th>\n",
       "      <th>RCP45</th>\n",
       "      <th>World</th>\n",
       "      <th>Radiative Forcing|CO2</th>\n",
       "      <th>W/m^2</th>\n",
       "      <th>DICE</th>\n",
       "      <th>-999.0</th>\n",
       "      <th>-999.0</th>\n",
       "      <th>-999.0</th>\n",
       "      <th>average</th>\n",
       "      <th>-999.0</th>\n",
       "      <th>-999</th>\n",
       "      <td>2.142363</td>\n",
       "      <td>2.123934</td>\n",
       "      <td>2.105980</td>\n",
       "      <td>2.088467</td>\n",
       "      <td>2.071411</td>\n",
       "      <td>2.054835</td>\n",
       "      <td>2.038691</td>\n",
       "      <td>2.022963</td>\n",
       "      <td>2.007659</td>\n",
       "      <td>1.992799</td>\n",
       "      <td>...</td>\n",
       "      <td>4.901488</td>\n",
       "      <td>4.898214</td>\n",
       "      <td>4.895193</td>\n",
       "      <td>4.892429</td>\n",
       "      <td>4.889896</td>\n",
       "      <td>4.887595</td>\n",
       "      <td>4.885525</td>\n",
       "      <td>4.883686</td>\n",
       "      <td>4.882069</td>\n",
       "      <td>4.880501</td>\n",
       "    </tr>\n",
       "    <tr>\n",
       "      <th>AIM</th>\n",
       "      <th>RCP60</th>\n",
       "      <th>World</th>\n",
       "      <th>Ocean Temperature Increase</th>\n",
       "      <th>delta_degC</th>\n",
       "      <th>DICE</th>\n",
       "      <th>-999.0</th>\n",
       "      <th>-999.0</th>\n",
       "      <th>-999.0</th>\n",
       "      <th>point</th>\n",
       "      <th>-999.0</th>\n",
       "      <th>-999</th>\n",
       "      <td>0.006800</td>\n",
       "      <td>0.010663</td>\n",
       "      <td>0.014615</td>\n",
       "      <td>0.018652</td>\n",
       "      <td>0.022778</td>\n",
       "      <td>0.026966</td>\n",
       "      <td>0.031223</td>\n",
       "      <td>0.035542</td>\n",
       "      <td>0.039933</td>\n",
       "      <td>0.044366</td>\n",
       "      <td>...</td>\n",
       "      <td>1.590753</td>\n",
       "      <td>1.600780</td>\n",
       "      <td>1.610889</td>\n",
       "      <td>1.621024</td>\n",
       "      <td>1.631210</td>\n",
       "      <td>1.641448</td>\n",
       "      <td>1.651763</td>\n",
       "      <td>1.662098</td>\n",
       "      <td>1.672479</td>\n",
       "      <td>1.682906</td>\n",
       "    </tr>\n",
       "  </tbody>\n",
       "</table>\n",
       "<p>5 rows × 336 columns</p>\n",
       "</div>"
      ],
      "text/plain": [
       "time                                                                                                                                                                                                                                                                     1765-01-01  \\\n",
       "model   scenario region variable                   unit       climate_model equilibrium climate sensitivity (kelvin) magicc6|core_climatesensitivity (delta_degc) magicc6|core_delq2xco2 (w/m^2) parameter_type radiative forcing 2xco2 (delta_degc * joule / a... todo               \n",
       "AIM     RCP60    World  Radiative Forcing|CO2      W/m^2      DICE          -999.0                                   -999.0                                       -999.0                         average        -999.0                                             -999    2.142363   \n",
       "IMAGE   RCP26    World  Radiative Forcing|CO2      W/m^2      DICE          -999.0                                   -999.0                                       -999.0                         average        -999.0                                             -999    2.142363   \n",
       "MESSAGE RCP85    World  Radiative Forcing|CO2      W/m^2      DICE          -999.0                                   -999.0                                       -999.0                         average        -999.0                                             -999    2.142363   \n",
       "MiniCAM RCP45    World  Radiative Forcing|CO2      W/m^2      DICE          -999.0                                   -999.0                                       -999.0                         average        -999.0                                             -999    2.142363   \n",
       "AIM     RCP60    World  Ocean Temperature Increase delta_degC DICE          -999.0                                   -999.0                                       -999.0                         point          -999.0                                             -999    0.006800   \n",
       "\n",
       "time                                                                                                                                                                                                                                                                     1766-01-01  \\\n",
       "model   scenario region variable                   unit       climate_model equilibrium climate sensitivity (kelvin) magicc6|core_climatesensitivity (delta_degc) magicc6|core_delq2xco2 (w/m^2) parameter_type radiative forcing 2xco2 (delta_degc * joule / a... todo               \n",
       "AIM     RCP60    World  Radiative Forcing|CO2      W/m^2      DICE          -999.0                                   -999.0                                       -999.0                         average        -999.0                                             -999    2.123934   \n",
       "IMAGE   RCP26    World  Radiative Forcing|CO2      W/m^2      DICE          -999.0                                   -999.0                                       -999.0                         average        -999.0                                             -999    2.123934   \n",
       "MESSAGE RCP85    World  Radiative Forcing|CO2      W/m^2      DICE          -999.0                                   -999.0                                       -999.0                         average        -999.0                                             -999    2.123934   \n",
       "MiniCAM RCP45    World  Radiative Forcing|CO2      W/m^2      DICE          -999.0                                   -999.0                                       -999.0                         average        -999.0                                             -999    2.123934   \n",
       "AIM     RCP60    World  Ocean Temperature Increase delta_degC DICE          -999.0                                   -999.0                                       -999.0                         point          -999.0                                             -999    0.010663   \n",
       "\n",
       "time                                                                                                                                                                                                                                                                     1767-01-01  \\\n",
       "model   scenario region variable                   unit       climate_model equilibrium climate sensitivity (kelvin) magicc6|core_climatesensitivity (delta_degc) magicc6|core_delq2xco2 (w/m^2) parameter_type radiative forcing 2xco2 (delta_degc * joule / a... todo               \n",
       "AIM     RCP60    World  Radiative Forcing|CO2      W/m^2      DICE          -999.0                                   -999.0                                       -999.0                         average        -999.0                                             -999    2.105980   \n",
       "IMAGE   RCP26    World  Radiative Forcing|CO2      W/m^2      DICE          -999.0                                   -999.0                                       -999.0                         average        -999.0                                             -999    2.105980   \n",
       "MESSAGE RCP85    World  Radiative Forcing|CO2      W/m^2      DICE          -999.0                                   -999.0                                       -999.0                         average        -999.0                                             -999    2.105980   \n",
       "MiniCAM RCP45    World  Radiative Forcing|CO2      W/m^2      DICE          -999.0                                   -999.0                                       -999.0                         average        -999.0                                             -999    2.105980   \n",
       "AIM     RCP60    World  Ocean Temperature Increase delta_degC DICE          -999.0                                   -999.0                                       -999.0                         point          -999.0                                             -999    0.014615   \n",
       "\n",
       "time                                                                                                                                                                                                                                                                     1768-01-01  \\\n",
       "model   scenario region variable                   unit       climate_model equilibrium climate sensitivity (kelvin) magicc6|core_climatesensitivity (delta_degc) magicc6|core_delq2xco2 (w/m^2) parameter_type radiative forcing 2xco2 (delta_degc * joule / a... todo               \n",
       "AIM     RCP60    World  Radiative Forcing|CO2      W/m^2      DICE          -999.0                                   -999.0                                       -999.0                         average        -999.0                                             -999    2.088467   \n",
       "IMAGE   RCP26    World  Radiative Forcing|CO2      W/m^2      DICE          -999.0                                   -999.0                                       -999.0                         average        -999.0                                             -999    2.088467   \n",
       "MESSAGE RCP85    World  Radiative Forcing|CO2      W/m^2      DICE          -999.0                                   -999.0                                       -999.0                         average        -999.0                                             -999    2.088467   \n",
       "MiniCAM RCP45    World  Radiative Forcing|CO2      W/m^2      DICE          -999.0                                   -999.0                                       -999.0                         average        -999.0                                             -999    2.088467   \n",
       "AIM     RCP60    World  Ocean Temperature Increase delta_degC DICE          -999.0                                   -999.0                                       -999.0                         point          -999.0                                             -999    0.018652   \n",
       "\n",
       "time                                                                                                                                                                                                                                                                     1769-01-01  \\\n",
       "model   scenario region variable                   unit       climate_model equilibrium climate sensitivity (kelvin) magicc6|core_climatesensitivity (delta_degc) magicc6|core_delq2xco2 (w/m^2) parameter_type radiative forcing 2xco2 (delta_degc * joule / a... todo               \n",
       "AIM     RCP60    World  Radiative Forcing|CO2      W/m^2      DICE          -999.0                                   -999.0                                       -999.0                         average        -999.0                                             -999    2.071411   \n",
       "IMAGE   RCP26    World  Radiative Forcing|CO2      W/m^2      DICE          -999.0                                   -999.0                                       -999.0                         average        -999.0                                             -999    2.071411   \n",
       "MESSAGE RCP85    World  Radiative Forcing|CO2      W/m^2      DICE          -999.0                                   -999.0                                       -999.0                         average        -999.0                                             -999    2.071411   \n",
       "MiniCAM RCP45    World  Radiative Forcing|CO2      W/m^2      DICE          -999.0                                   -999.0                                       -999.0                         average        -999.0                                             -999    2.071411   \n",
       "AIM     RCP60    World  Ocean Temperature Increase delta_degC DICE          -999.0                                   -999.0                                       -999.0                         point          -999.0                                             -999    0.022778   \n",
       "\n",
       "time                                                                                                                                                                                                                                                                     1770-01-01  \\\n",
       "model   scenario region variable                   unit       climate_model equilibrium climate sensitivity (kelvin) magicc6|core_climatesensitivity (delta_degc) magicc6|core_delq2xco2 (w/m^2) parameter_type radiative forcing 2xco2 (delta_degc * joule / a... todo               \n",
       "AIM     RCP60    World  Radiative Forcing|CO2      W/m^2      DICE          -999.0                                   -999.0                                       -999.0                         average        -999.0                                             -999    2.054835   \n",
       "IMAGE   RCP26    World  Radiative Forcing|CO2      W/m^2      DICE          -999.0                                   -999.0                                       -999.0                         average        -999.0                                             -999    2.054835   \n",
       "MESSAGE RCP85    World  Radiative Forcing|CO2      W/m^2      DICE          -999.0                                   -999.0                                       -999.0                         average        -999.0                                             -999    2.054835   \n",
       "MiniCAM RCP45    World  Radiative Forcing|CO2      W/m^2      DICE          -999.0                                   -999.0                                       -999.0                         average        -999.0                                             -999    2.054835   \n",
       "AIM     RCP60    World  Ocean Temperature Increase delta_degC DICE          -999.0                                   -999.0                                       -999.0                         point          -999.0                                             -999    0.026966   \n",
       "\n",
       "time                                                                                                                                                                                                                                                                     1771-01-01  \\\n",
       "model   scenario region variable                   unit       climate_model equilibrium climate sensitivity (kelvin) magicc6|core_climatesensitivity (delta_degc) magicc6|core_delq2xco2 (w/m^2) parameter_type radiative forcing 2xco2 (delta_degc * joule / a... todo               \n",
       "AIM     RCP60    World  Radiative Forcing|CO2      W/m^2      DICE          -999.0                                   -999.0                                       -999.0                         average        -999.0                                             -999    2.038691   \n",
       "IMAGE   RCP26    World  Radiative Forcing|CO2      W/m^2      DICE          -999.0                                   -999.0                                       -999.0                         average        -999.0                                             -999    2.038691   \n",
       "MESSAGE RCP85    World  Radiative Forcing|CO2      W/m^2      DICE          -999.0                                   -999.0                                       -999.0                         average        -999.0                                             -999    2.038691   \n",
       "MiniCAM RCP45    World  Radiative Forcing|CO2      W/m^2      DICE          -999.0                                   -999.0                                       -999.0                         average        -999.0                                             -999    2.038691   \n",
       "AIM     RCP60    World  Ocean Temperature Increase delta_degC DICE          -999.0                                   -999.0                                       -999.0                         point          -999.0                                             -999    0.031223   \n",
       "\n",
       "time                                                                                                                                                                                                                                                                     1772-01-01  \\\n",
       "model   scenario region variable                   unit       climate_model equilibrium climate sensitivity (kelvin) magicc6|core_climatesensitivity (delta_degc) magicc6|core_delq2xco2 (w/m^2) parameter_type radiative forcing 2xco2 (delta_degc * joule / a... todo               \n",
       "AIM     RCP60    World  Radiative Forcing|CO2      W/m^2      DICE          -999.0                                   -999.0                                       -999.0                         average        -999.0                                             -999    2.022963   \n",
       "IMAGE   RCP26    World  Radiative Forcing|CO2      W/m^2      DICE          -999.0                                   -999.0                                       -999.0                         average        -999.0                                             -999    2.022963   \n",
       "MESSAGE RCP85    World  Radiative Forcing|CO2      W/m^2      DICE          -999.0                                   -999.0                                       -999.0                         average        -999.0                                             -999    2.022963   \n",
       "MiniCAM RCP45    World  Radiative Forcing|CO2      W/m^2      DICE          -999.0                                   -999.0                                       -999.0                         average        -999.0                                             -999    2.022963   \n",
       "AIM     RCP60    World  Ocean Temperature Increase delta_degC DICE          -999.0                                   -999.0                                       -999.0                         point          -999.0                                             -999    0.035542   \n",
       "\n",
       "time                                                                                                                                                                                                                                                                     1773-01-01  \\\n",
       "model   scenario region variable                   unit       climate_model equilibrium climate sensitivity (kelvin) magicc6|core_climatesensitivity (delta_degc) magicc6|core_delq2xco2 (w/m^2) parameter_type radiative forcing 2xco2 (delta_degc * joule / a... todo               \n",
       "AIM     RCP60    World  Radiative Forcing|CO2      W/m^2      DICE          -999.0                                   -999.0                                       -999.0                         average        -999.0                                             -999    2.007659   \n",
       "IMAGE   RCP26    World  Radiative Forcing|CO2      W/m^2      DICE          -999.0                                   -999.0                                       -999.0                         average        -999.0                                             -999    2.007659   \n",
       "MESSAGE RCP85    World  Radiative Forcing|CO2      W/m^2      DICE          -999.0                                   -999.0                                       -999.0                         average        -999.0                                             -999    2.007659   \n",
       "MiniCAM RCP45    World  Radiative Forcing|CO2      W/m^2      DICE          -999.0                                   -999.0                                       -999.0                         average        -999.0                                             -999    2.007659   \n",
       "AIM     RCP60    World  Ocean Temperature Increase delta_degC DICE          -999.0                                   -999.0                                       -999.0                         point          -999.0                                             -999    0.039933   \n",
       "\n",
       "time                                                                                                                                                                                                                                                                     1774-01-01  \\\n",
       "model   scenario region variable                   unit       climate_model equilibrium climate sensitivity (kelvin) magicc6|core_climatesensitivity (delta_degc) magicc6|core_delq2xco2 (w/m^2) parameter_type radiative forcing 2xco2 (delta_degc * joule / a... todo               \n",
       "AIM     RCP60    World  Radiative Forcing|CO2      W/m^2      DICE          -999.0                                   -999.0                                       -999.0                         average        -999.0                                             -999    1.992799   \n",
       "IMAGE   RCP26    World  Radiative Forcing|CO2      W/m^2      DICE          -999.0                                   -999.0                                       -999.0                         average        -999.0                                             -999    1.992799   \n",
       "MESSAGE RCP85    World  Radiative Forcing|CO2      W/m^2      DICE          -999.0                                   -999.0                                       -999.0                         average        -999.0                                             -999    1.992799   \n",
       "MiniCAM RCP45    World  Radiative Forcing|CO2      W/m^2      DICE          -999.0                                   -999.0                                       -999.0                         average        -999.0                                             -999    1.992799   \n",
       "AIM     RCP60    World  Ocean Temperature Increase delta_degC DICE          -999.0                                   -999.0                                       -999.0                         point          -999.0                                             -999    0.044366   \n",
       "\n",
       "time                                                                                                                                                                                                                                                                     ...  \\\n",
       "model   scenario region variable                   unit       climate_model equilibrium climate sensitivity (kelvin) magicc6|core_climatesensitivity (delta_degc) magicc6|core_delq2xco2 (w/m^2) parameter_type radiative forcing 2xco2 (delta_degc * joule / a... todo  ...   \n",
       "AIM     RCP60    World  Radiative Forcing|CO2      W/m^2      DICE          -999.0                                   -999.0                                       -999.0                         average        -999.0                                             -999  ...   \n",
       "IMAGE   RCP26    World  Radiative Forcing|CO2      W/m^2      DICE          -999.0                                   -999.0                                       -999.0                         average        -999.0                                             -999  ...   \n",
       "MESSAGE RCP85    World  Radiative Forcing|CO2      W/m^2      DICE          -999.0                                   -999.0                                       -999.0                         average        -999.0                                             -999  ...   \n",
       "MiniCAM RCP45    World  Radiative Forcing|CO2      W/m^2      DICE          -999.0                                   -999.0                                       -999.0                         average        -999.0                                             -999  ...   \n",
       "AIM     RCP60    World  Ocean Temperature Increase delta_degC DICE          -999.0                                   -999.0                                       -999.0                         point          -999.0                                             -999  ...   \n",
       "\n",
       "time                                                                                                                                                                                                                                                                     2091-01-01  \\\n",
       "model   scenario region variable                   unit       climate_model equilibrium climate sensitivity (kelvin) magicc6|core_climatesensitivity (delta_degc) magicc6|core_delq2xco2 (w/m^2) parameter_type radiative forcing 2xco2 (delta_degc * joule / a... todo               \n",
       "AIM     RCP60    World  Radiative Forcing|CO2      W/m^2      DICE          -999.0                                   -999.0                                       -999.0                         average        -999.0                                             -999    5.908613   \n",
       "IMAGE   RCP26    World  Radiative Forcing|CO2      W/m^2      DICE          -999.0                                   -999.0                                       -999.0                         average        -999.0                                             -999    3.750885   \n",
       "MESSAGE RCP85    World  Radiative Forcing|CO2      W/m^2      DICE          -999.0                                   -999.0                                       -999.0                         average        -999.0                                             -999    7.196448   \n",
       "MiniCAM RCP45    World  Radiative Forcing|CO2      W/m^2      DICE          -999.0                                   -999.0                                       -999.0                         average        -999.0                                             -999    4.901488   \n",
       "AIM     RCP60    World  Ocean Temperature Increase delta_degC DICE          -999.0                                   -999.0                                       -999.0                         point          -999.0                                             -999    1.590753   \n",
       "\n",
       "time                                                                                                                                                                                                                                                                     2092-01-01  \\\n",
       "model   scenario region variable                   unit       climate_model equilibrium climate sensitivity (kelvin) magicc6|core_climatesensitivity (delta_degc) magicc6|core_delq2xco2 (w/m^2) parameter_type radiative forcing 2xco2 (delta_degc * joule / a... todo               \n",
       "AIM     RCP60    World  Radiative Forcing|CO2      W/m^2      DICE          -999.0                                   -999.0                                       -999.0                         average        -999.0                                             -999    5.927994   \n",
       "IMAGE   RCP26    World  Radiative Forcing|CO2      W/m^2      DICE          -999.0                                   -999.0                                       -999.0                         average        -999.0                                             -999    3.739859   \n",
       "MESSAGE RCP85    World  Radiative Forcing|CO2      W/m^2      DICE          -999.0                                   -999.0                                       -999.0                         average        -999.0                                             -999    7.235741   \n",
       "MiniCAM RCP45    World  Radiative Forcing|CO2      W/m^2      DICE          -999.0                                   -999.0                                       -999.0                         average        -999.0                                             -999    4.898214   \n",
       "AIM     RCP60    World  Ocean Temperature Increase delta_degC DICE          -999.0                                   -999.0                                       -999.0                         point          -999.0                                             -999    1.600780   \n",
       "\n",
       "time                                                                                                                                                                                                                                                                     2093-01-01  \\\n",
       "model   scenario region variable                   unit       climate_model equilibrium climate sensitivity (kelvin) magicc6|core_climatesensitivity (delta_degc) magicc6|core_delq2xco2 (w/m^2) parameter_type radiative forcing 2xco2 (delta_degc * joule / a... todo               \n",
       "AIM     RCP60    World  Radiative Forcing|CO2      W/m^2      DICE          -999.0                                   -999.0                                       -999.0                         average        -999.0                                             -999    5.947038   \n",
       "IMAGE   RCP26    World  Radiative Forcing|CO2      W/m^2      DICE          -999.0                                   -999.0                                       -999.0                         average        -999.0                                             -999    3.729016   \n",
       "MESSAGE RCP85    World  Radiative Forcing|CO2      W/m^2      DICE          -999.0                                   -999.0                                       -999.0                         average        -999.0                                             -999    7.274491   \n",
       "MiniCAM RCP45    World  Radiative Forcing|CO2      W/m^2      DICE          -999.0                                   -999.0                                       -999.0                         average        -999.0                                             -999    4.895193   \n",
       "AIM     RCP60    World  Ocean Temperature Increase delta_degC DICE          -999.0                                   -999.0                                       -999.0                         point          -999.0                                             -999    1.610889   \n",
       "\n",
       "time                                                                                                                                                                                                                                                                     2094-01-01  \\\n",
       "model   scenario region variable                   unit       climate_model equilibrium climate sensitivity (kelvin) magicc6|core_climatesensitivity (delta_degc) magicc6|core_delq2xco2 (w/m^2) parameter_type radiative forcing 2xco2 (delta_degc * joule / a... todo               \n",
       "AIM     RCP60    World  Radiative Forcing|CO2      W/m^2      DICE          -999.0                                   -999.0                                       -999.0                         average        -999.0                                             -999    5.965713   \n",
       "IMAGE   RCP26    World  Radiative Forcing|CO2      W/m^2      DICE          -999.0                                   -999.0                                       -999.0                         average        -999.0                                             -999    3.718368   \n",
       "MESSAGE RCP85    World  Radiative Forcing|CO2      W/m^2      DICE          -999.0                                   -999.0                                       -999.0                         average        -999.0                                             -999    7.312670   \n",
       "MiniCAM RCP45    World  Radiative Forcing|CO2      W/m^2      DICE          -999.0                                   -999.0                                       -999.0                         average        -999.0                                             -999    4.892429   \n",
       "AIM     RCP60    World  Ocean Temperature Increase delta_degC DICE          -999.0                                   -999.0                                       -999.0                         point          -999.0                                             -999    1.621024   \n",
       "\n",
       "time                                                                                                                                                                                                                                                                     2095-01-01  \\\n",
       "model   scenario region variable                   unit       climate_model equilibrium climate sensitivity (kelvin) magicc6|core_climatesensitivity (delta_degc) magicc6|core_delq2xco2 (w/m^2) parameter_type radiative forcing 2xco2 (delta_degc * joule / a... todo               \n",
       "AIM     RCP60    World  Radiative Forcing|CO2      W/m^2      DICE          -999.0                                   -999.0                                       -999.0                         average        -999.0                                             -999    5.984040   \n",
       "IMAGE   RCP26    World  Radiative Forcing|CO2      W/m^2      DICE          -999.0                                   -999.0                                       -999.0                         average        -999.0                                             -999    3.707881   \n",
       "MESSAGE RCP85    World  Radiative Forcing|CO2      W/m^2      DICE          -999.0                                   -999.0                                       -999.0                         average        -999.0                                             -999    7.350333   \n",
       "MiniCAM RCP45    World  Radiative Forcing|CO2      W/m^2      DICE          -999.0                                   -999.0                                       -999.0                         average        -999.0                                             -999    4.889896   \n",
       "AIM     RCP60    World  Ocean Temperature Increase delta_degC DICE          -999.0                                   -999.0                                       -999.0                         point          -999.0                                             -999    1.631210   \n",
       "\n",
       "time                                                                                                                                                                                                                                                                     2096-01-01  \\\n",
       "model   scenario region variable                   unit       climate_model equilibrium climate sensitivity (kelvin) magicc6|core_climatesensitivity (delta_degc) magicc6|core_delq2xco2 (w/m^2) parameter_type radiative forcing 2xco2 (delta_degc * joule / a... todo               \n",
       "AIM     RCP60    World  Radiative Forcing|CO2      W/m^2      DICE          -999.0                                   -999.0                                       -999.0                         average        -999.0                                             -999    6.002060   \n",
       "IMAGE   RCP26    World  Radiative Forcing|CO2      W/m^2      DICE          -999.0                                   -999.0                                       -999.0                         average        -999.0                                             -999    3.697545   \n",
       "MESSAGE RCP85    World  Radiative Forcing|CO2      W/m^2      DICE          -999.0                                   -999.0                                       -999.0                         average        -999.0                                             -999    7.387555   \n",
       "MiniCAM RCP45    World  Radiative Forcing|CO2      W/m^2      DICE          -999.0                                   -999.0                                       -999.0                         average        -999.0                                             -999    4.887595   \n",
       "AIM     RCP60    World  Ocean Temperature Increase delta_degC DICE          -999.0                                   -999.0                                       -999.0                         point          -999.0                                             -999    1.641448   \n",
       "\n",
       "time                                                                                                                                                                                                                                                                     2097-01-01  \\\n",
       "model   scenario region variable                   unit       climate_model equilibrium climate sensitivity (kelvin) magicc6|core_climatesensitivity (delta_degc) magicc6|core_delq2xco2 (w/m^2) parameter_type radiative forcing 2xco2 (delta_degc * joule / a... todo               \n",
       "AIM     RCP60    World  Radiative Forcing|CO2      W/m^2      DICE          -999.0                                   -999.0                                       -999.0                         average        -999.0                                             -999    6.019758   \n",
       "IMAGE   RCP26    World  Radiative Forcing|CO2      W/m^2      DICE          -999.0                                   -999.0                                       -999.0                         average        -999.0                                             -999    3.687371   \n",
       "MESSAGE RCP85    World  Radiative Forcing|CO2      W/m^2      DICE          -999.0                                   -999.0                                       -999.0                         average        -999.0                                             -999    7.424301   \n",
       "MiniCAM RCP45    World  Radiative Forcing|CO2      W/m^2      DICE          -999.0                                   -999.0                                       -999.0                         average        -999.0                                             -999    4.885525   \n",
       "AIM     RCP60    World  Ocean Temperature Increase delta_degC DICE          -999.0                                   -999.0                                       -999.0                         point          -999.0                                             -999    1.651763   \n",
       "\n",
       "time                                                                                                                                                                                                                                                                     2098-01-01  \\\n",
       "model   scenario region variable                   unit       climate_model equilibrium climate sensitivity (kelvin) magicc6|core_climatesensitivity (delta_degc) magicc6|core_delq2xco2 (w/m^2) parameter_type radiative forcing 2xco2 (delta_degc * joule / a... todo               \n",
       "AIM     RCP60    World  Radiative Forcing|CO2      W/m^2      DICE          -999.0                                   -999.0                                       -999.0                         average        -999.0                                             -999    6.037123   \n",
       "IMAGE   RCP26    World  Radiative Forcing|CO2      W/m^2      DICE          -999.0                                   -999.0                                       -999.0                         average        -999.0                                             -999    3.677374   \n",
       "MESSAGE RCP85    World  Radiative Forcing|CO2      W/m^2      DICE          -999.0                                   -999.0                                       -999.0                         average        -999.0                                             -999    7.460540   \n",
       "MiniCAM RCP45    World  Radiative Forcing|CO2      W/m^2      DICE          -999.0                                   -999.0                                       -999.0                         average        -999.0                                             -999    4.883686   \n",
       "AIM     RCP60    World  Ocean Temperature Increase delta_degC DICE          -999.0                                   -999.0                                       -999.0                         point          -999.0                                             -999    1.662098   \n",
       "\n",
       "time                                                                                                                                                                                                                                                                     2099-01-01  \\\n",
       "model   scenario region variable                   unit       climate_model equilibrium climate sensitivity (kelvin) magicc6|core_climatesensitivity (delta_degc) magicc6|core_delq2xco2 (w/m^2) parameter_type radiative forcing 2xco2 (delta_degc * joule / a... todo               \n",
       "AIM     RCP60    World  Radiative Forcing|CO2      W/m^2      DICE          -999.0                                   -999.0                                       -999.0                         average        -999.0                                             -999    6.054185   \n",
       "IMAGE   RCP26    World  Radiative Forcing|CO2      W/m^2      DICE          -999.0                                   -999.0                                       -999.0                         average        -999.0                                             -999    3.667532   \n",
       "MESSAGE RCP85    World  Radiative Forcing|CO2      W/m^2      DICE          -999.0                                   -999.0                                       -999.0                         average        -999.0                                             -999    7.496335   \n",
       "MiniCAM RCP45    World  Radiative Forcing|CO2      W/m^2      DICE          -999.0                                   -999.0                                       -999.0                         average        -999.0                                             -999    4.882069   \n",
       "AIM     RCP60    World  Ocean Temperature Increase delta_degC DICE          -999.0                                   -999.0                                       -999.0                         point          -999.0                                             -999    1.672479   \n",
       "\n",
       "time                                                                                                                                                                                                                                                                     2100-01-01  \n",
       "model   scenario region variable                   unit       climate_model equilibrium climate sensitivity (kelvin) magicc6|core_climatesensitivity (delta_degc) magicc6|core_delq2xco2 (w/m^2) parameter_type radiative forcing 2xco2 (delta_degc * joule / a... todo              \n",
       "AIM     RCP60    World  Radiative Forcing|CO2      W/m^2      DICE          -999.0                                   -999.0                                       -999.0                         average        -999.0                                             -999    6.070784  \n",
       "IMAGE   RCP26    World  Radiative Forcing|CO2      W/m^2      DICE          -999.0                                   -999.0                                       -999.0                         average        -999.0                                             -999    3.657663  \n",
       "MESSAGE RCP85    World  Radiative Forcing|CO2      W/m^2      DICE          -999.0                                   -999.0                                       -999.0                         average        -999.0                                             -999    7.531521  \n",
       "MiniCAM RCP45    World  Radiative Forcing|CO2      W/m^2      DICE          -999.0                                   -999.0                                       -999.0                         average        -999.0                                             -999    4.880501  \n",
       "AIM     RCP60    World  Ocean Temperature Increase delta_degC DICE          -999.0                                   -999.0                                       -999.0                         point          -999.0                                             -999    1.682906  \n",
       "\n",
       "[5 rows x 336 columns]"
      ]
     },
     "execution_count": 16,
     "metadata": {},
     "output_type": "execute_result"
    }
   ],
   "source": [
    "output_scmdf.head()"
   ]
  },
  {
   "cell_type": "code",
   "execution_count": 17,
   "metadata": {},
   "outputs": [
    {
     "data": {
      "image/png": "[encoded data removed]",
      "text/plain": [
       "<Figure size 432x288 with 1 Axes>"
      ]
     },
     "metadata": {},
     "output_type": "display_data"
    }
   ],
   "source": [
    "output_iamdf.filter(\n",
    "    variable=\"Surface Temperature Increase\"\n",
    ").line_plot(x=\"time\", color=\"climate_model\");"
   ]
  },
  {
   "cell_type": "code",
   "execution_count": 18,
   "metadata": {},
   "outputs": [
    {
     "data": {
      "image/png": "[encoded data removed]",
      "text/plain": [
       "<Figure size 432x288 with 1 Axes>"
      ]
     },
     "metadata": {},
     "output_type": "display_data"
    }
   ],
   "source": [
    "ScmDataFrame(output_scmdf.filter(\n",
    "    variable=\"Surface Temperature Increase\"\n",
    ").relative_to_ref_period_mean(\n",
    "    year=range(1850, 1901)\n",
    ")).line_plot(color=\"climate_model\");"
   ]
  }
 ],
 "metadata": {
  "kernelspec": {
   "display_name": "Python 3",
   "language": "python",
   "name": "python3"
  },
  "language_info": {
   "codemirror_mode": {
    "name": "ipython",
    "version": 3
   },
   "file_extension": ".py",
   "mimetype": "text/x-python",
   "name": "python",
   "nbconvert_exporter": "python",
   "pygments_lexer": "ipython3",
   "version": "3.7.1"
  }
 },
 "nbformat": 4,
 "nbformat_minor": 2
}
