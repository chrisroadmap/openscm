{
 "cells": [
  {
   "cell_type": "markdown",
   "metadata": {},
   "source": [
    "# OpenSCM Timeframes\n",
    "\n",
    "In OpenSCM, the class for handling timeframes is `openscm.timesframes.Timeframe`."
   ]
  },
  {
   "cell_type": "code",
   "execution_count": 1,
   "metadata": {},
   "outputs": [],
   "source": [
    "from itertools import count\n",
    "from copy import copy\n",
    "\n",
    "import numpy as np\n",
    "from matplotlib import pyplot as plt\n",
    "\n",
    "from openscm import timeframes\n",
    "from openscm.core import ParameterSet"
   ]
  },
  {
   "cell_type": "code",
   "execution_count": 2,
   "metadata": {},
   "outputs": [],
   "source": [
    "COLOUR_1 = \"lime\"\n",
    "COLOUR_2 = \"midnightblue\"\n",
    "COLOUR_3 = \"firebrick\"\n",
    "COLOUR_4 = \"deeppink\"\n",
    "\n",
    "MARKER_1 = \"o\"\n",
    "MARKER_2 = \"^\"\n",
    "MARKER_3 = \"+\"\n",
    "MARKER_4 = \"x\""
   ]
  },
  {
   "cell_type": "markdown",
   "metadata": {},
   "source": [
    "## Holding data\n",
    "\n",
    "In OpenSCM, all data is stored in a `ParameterSet` instance. "
   ]
  },
  {
   "cell_type": "code",
   "execution_count": 3,
   "metadata": {},
   "outputs": [],
   "source": [
    "paras = ParameterSet()"
   ]
  },
  {
   "cell_type": "markdown",
   "metadata": {},
   "source": [
    "---\n",
    "## Period average data\n",
    "\n",
    "As it stands, the only timeseries data which OpenSCM is equipped to handle is average data, that is data which represents the average value over a given time period. The most common example is emissions data, where each time point represents the average emissions flux for that time period e.g. 2100 emissions of 3 GtC / yr means that the average rate of emissions for 2100 was 3 GtC / yr.\n",
    "\n",
    "<div class=\"alert alert-warning\">\n",
    "  <strong>Warning!</strong> Emissions data is ocassionally reported without the rate e.g. 2100 emissions were 3 GtC. In OpenSCM, we explicitly do not allow this as it doesn't actually make sense. The emissions were not 3 GtC at any given point in 2100, they were 3 GtC / yr for the whole year and hence the cumulative emissions for the year were 3 GtC. Before passing emissions data into OpenSCM it should have the units converted to rates (of course, cumulative emissions data should not be reported as rates and so perhaps the only fix required is changing the variable name from `Emissions` to `Cumulative Emissions`).\n",
    "</div>"
   ]
  },
  {
   "cell_type": "markdown",
   "metadata": {},
   "source": [
    "### Source data"
   ]
  },
  {
   "cell_type": "markdown",
   "metadata": {},
   "source": [
    "To start with, we set our source data.\n",
    "\n",
    "[TODO: add example of non-periodic data and explain the difference]\n",
    "\n",
    "If your data is period, all we need to do to specify our timeseries is to provide the start time and period length of the time axis."
   ]
  },
  {
   "cell_type": "code",
   "execution_count": 4,
   "metadata": {},
   "outputs": [],
   "source": [
    "source_values = np.array([1, 5, 3, 5, 7, 3, 2, 9])\n",
    "source_view = paras.get_writable_timeseries_view(\n",
    "    (\"Emissions\", \"CO2\"),\n",
    "    (\"World\",),\n",
    "    \"GtC / yr\",\n",
    "    start_time=0,\n",
    "    period_length=10,\n",
    ")\n",
    "source_view.set_series(source_values)"
   ]
  },
  {
   "cell_type": "markdown",
   "metadata": {},
   "source": [
    "[TODO: make this sane]\n",
    "\n",
    "The `get_points` method of our view's `_timeframe_converter._source` allows us to get the timeseries for our data."
   ]
  },
  {
   "cell_type": "code",
   "execution_count": 5,
   "metadata": {},
   "outputs": [
    {
     "data": {
      "text/plain": [
       "array([ 0., 10., 20., 30., 40., 50., 60., 70.])"
      ]
     },
     "execution_count": 5,
     "metadata": {},
     "output_type": "execute_result"
    }
   ],
   "source": [
    "source_times = source_view._timeframe_converter._source.get_points(\n",
    "    len(source_view.get_series())\n",
    ")\n",
    "source_times"
   ]
  },
  {
   "cell_type": "code",
   "execution_count": 6,
   "metadata": {},
   "outputs": [
    {
     "data": {
      "image/png": "[encoded data removed]",
      "text/plain": [
       "<Figure size 432x288 with 1 Axes>"
      ]
     },
     "metadata": {
      "needs_background": "light"
     },
     "output_type": "display_data"
    }
   ],
   "source": [
    "ax = plt.figure().add_subplot(111)\n",
    "ax.scatter(\n",
    "    source_times, \n",
    "    source_values, \n",
    "    label=\"source data\", \n",
    "    marker=MARKER_1,\n",
    "    color=COLOUR_1,\n",
    ")\n",
    "ax.legend(frameon=False);"
   ]
  },
  {
   "cell_type": "markdown",
   "metadata": {},
   "source": [
    "### Target data\n",
    "\n",
    "Next we set our target, using one of OpenSCM's `ParameterView`'s."
   ]
  },
  {
   "cell_type": "code",
   "execution_count": 35,
   "metadata": {},
   "outputs": [],
   "source": [
    "target_view = paras.get_timeseries_view(\n",
    "    (\"Emissions\", \"CO2\"),\n",
    "    (\"World\",),\n",
    "    \"GtC / yr\",\n",
    "    start_time=4,\n",
    "    period_length=7,\n",
    ")\n",
    "target_times = target_view._timeframe_converter._target.get_points(\n",
    "    len(target_view.get_series())\n",
    ")"
   ]
  },
  {
   "cell_type": "markdown",
   "metadata": {},
   "source": [
    "### Conversion\n",
    "\n",
    "To convert between different timeframes, assumptions always have to be made. At the moment, OpenSCM makes a few choices and assumptions. \n",
    "\n",
    "\n",
    "The first assumption is that the values in your timeseries represent the average value of the variable over a time period. This time period extends from the time time at which the value is provided, the 'data time', up until the 'data time' plus one time period. From here, interpolate the data such that their average (i.e. integral over the period divided by the period length) equals the original source data. [TODO: change this assumption as it's pretty convoluted?] We choose to interpolate based on three points per period. At each period edge the value is assumed to equal the average of the values for the two adjacent periods, at the period mid point the value is adjusted such that the period average equals the original period average (i.e. the original data value for that period). For the first and the last period the mid points are assumed to be at the period average and the outer edges are adjusted accordingly.\n",
    "\n",
    "In a picture it looks like the below. To make it easier to see how the interpolation is integral preserving, we plot the source data with lines which show the integral, following the assumption that the data values represent the average over the time period.\n",
    "\n",
    "[TODO: update in future]"
   ]
  },
  {
   "cell_type": "code",
   "execution_count": 12,
   "metadata": {},
   "outputs": [],
   "source": [
    "def plot_timeframe(ax, values, timeframe, **kwargs):\n",
    "    ax.step(timeframe.get_points(len(values) + 1), np.concatenate(([values[0]], values)), **kwargs)"
   ]
  },
  {
   "cell_type": "code",
   "execution_count": 16,
   "metadata": {},
   "outputs": [
    {
     "data": {
      "image/png": "[encoded data removed]",
      "text/plain": [
       "<Figure size 432x288 with 1 Axes>"
      ]
     },
     "metadata": {
      "needs_background": "light"
     },
     "output_type": "display_data"
    }
   ],
   "source": [
    "# TODO: make this sane(?)\n",
    "linearised_points, linearised_values = timeframes._calc_linearization(\n",
    "    source_view.get_series(), \n",
    "    source_view._timeframe_converter._source\n",
    ")\n",
    "ax = plt.figure().add_subplot(111)\n",
    "plot_timeframe(\n",
    "    ax, \n",
    "    source_view.get_series(), \n",
    "    source_view._timeframe_converter._source, \n",
    "    label=\"source\",\n",
    "    marker=MARKER_1,\n",
    "    color=COLOUR_1,\n",
    ")\n",
    "ax.scatter(\n",
    "    linearised_points, \n",
    "    linearised_values, \n",
    "    label=\"linearised\", \n",
    "    marker=MARKER_2,\n",
    "    color=COLOUR_2,\n",
    ")\n",
    "ax.legend(frameon=False);"
   ]
  },
  {
   "cell_type": "markdown",
   "metadata": {},
   "source": [
    "In a second step, the linearized values are used to determine the values at the edges of the target timeseries (green dots in plot below) as well as at their sampling points (orange dots). This ensures that we retain as much information as possible. We use this information in the next step, when we determine the target timeseries values."
   ]
  },
  {
   "cell_type": "code",
   "execution_count": 14,
   "metadata": {},
   "outputs": [],
   "source": [
    "interpolation = timeframes._calc_interpolation_points(\n",
    "    len(source_values),\n",
    "    source_view._timeframe_converter._source,\n",
    "    target_view._timeframe_converter._target\n",
    ")\n",
    "interpolation_values = np.interp(\n",
    "    interpolation.points, linearised_points, linearised_values\n",
    ")"
   ]
  },
  {
   "cell_type": "markdown",
   "metadata": {},
   "source": [
    "#### Plot"
   ]
  },
  {
   "cell_type": "code",
   "execution_count": 17,
   "metadata": {},
   "outputs": [
    {
     "data": {
      "image/png": "[encoded data removed]",
      "text/plain": [
       "<Figure size 432x288 with 1 Axes>"
      ]
     },
     "metadata": {
      "needs_background": "light"
     },
     "output_type": "display_data"
    }
   ],
   "source": [
    "ax = plt.figure().add_subplot(111)\n",
    "plot_timeframe(\n",
    "    ax, \n",
    "    source_view.get_series(), \n",
    "    source_view._timeframe_converter._source, \n",
    "    label=\"source\",\n",
    "    marker=MARKER_1,\n",
    "    color=COLOUR_1,\n",
    ")\n",
    "ax.scatter(\n",
    "    interpolation.points, \n",
    "    interpolation_values, \n",
    "    label=\"interpolation\", \n",
    "    marker=MARKER_2,\n",
    "    color=COLOUR_2\n",
    ")\n",
    "ax.scatter(\n",
    "    interpolation.points[interpolation.target_indices], \n",
    "    interpolation_values[interpolation.target_indices], \n",
    "    color=COLOUR_3, \n",
    "    marker=MARKER_2,\n",
    "    zorder=10, \n",
    "    label=\"target edges (on x axis)\"\n",
    ")\n",
    "for x in interpolation.points[interpolation.target_indices]:\n",
    "    ax.axvline(x=x, color=COLOUR_3, alpha=0.3, ls=\"--\")\n",
    "ax.legend();"
   ]
  },
  {
   "cell_type": "markdown",
   "metadata": {},
   "source": [
    "In a third step, we calculate the target timeframe values. We choose to integrate via the trapezium rule and then divide by the period length to get the target timeframe values."
   ]
  },
  {
   "cell_type": "code",
   "execution_count": 29,
   "metadata": {},
   "outputs": [
    {
     "data": {
      "image/png": "[encoded data removed]",
      "text/plain": [
       "<Figure size 432x288 with 1 Axes>"
      ]
     },
     "metadata": {
      "needs_background": "light"
     },
     "output_type": "display_data"
    }
   ],
   "source": [
    "ax = plt.figure().add_subplot(111)\n",
    "plot_timeframe(\n",
    "    ax, \n",
    "    source_view.get_series(), \n",
    "    source_view._timeframe_converter._source, \n",
    "    label=\"source\",\n",
    "    marker=MARKER_1,\n",
    "    color=COLOUR_1,\n",
    ")\n",
    "ax.plot(\n",
    "    interpolation.points, \n",
    "    interpolation_values,\n",
    "    label=\"Trapezium rule integration\", \n",
    "    marker=MARKER_2,\n",
    "    color=COLOUR_2\n",
    ")\n",
    "for x in interpolation.points[interpolation.target_indices]:\n",
    "    ax.axvline(x=x, color=COLOUR_3, alpha=0.3, ls=\"--\")\n",
    "ax.legend();"
   ]
  },
  {
   "cell_type": "code",
   "execution_count": 30,
   "metadata": {},
   "outputs": [],
   "source": [
    "interval_averages = timeframes._calc_interval_averages(\n",
    "    interpolation,\n",
    "    interpolation_values\n",
    ")"
   ]
  },
  {
   "cell_type": "markdown",
   "metadata": {},
   "source": [
    "#### Plot"
   ]
  },
  {
   "cell_type": "code",
   "execution_count": 40,
   "metadata": {},
   "outputs": [
    {
     "data": {
      "image/png": "[encoded data removed]",
      "text/plain": [
       "<Figure size 432x288 with 1 Axes>"
      ]
     },
     "metadata": {
      "needs_background": "light"
     },
     "output_type": "display_data"
    }
   ],
   "source": [
    "ax = plt.figure().add_subplot(111)\n",
    "plot_timeframe(\n",
    "    ax, \n",
    "    source_view.get_series(), \n",
    "    source_view._timeframe_converter._source, \n",
    "    label=\"source\",\n",
    "    marker=MARKER_1,\n",
    "    color=COLOUR_1,\n",
    ")\n",
    "ax.scatter(\n",
    "    interpolation.points, \n",
    "    interpolation_values, \n",
    "    label=\"interpolation\", \n",
    "    marker=MARKER_2,\n",
    "    color=COLOUR_2\n",
    ")\n",
    "ax.scatter(\n",
    "    target_times, \n",
    "    interval_averages, \n",
    "    color=COLOUR_3, \n",
    "    marker=MARKER_2,\n",
    "    zorder=10, \n",
    "    label=\"target\"\n",
    ")\n",
    "for x in interpolation.points[interpolation.target_indices]:\n",
    "    ax.axvline(x=x, color=COLOUR_3, alpha=0.3, ls=\"--\")\n",
    "ax.legend();"
   ]
  },
  {
   "cell_type": "code",
   "execution_count": 44,
   "metadata": {},
   "outputs": [
    {
     "data": {
      "image/png": "[encoded data removed]",
      "text/plain": [
       "<Figure size 432x288 with 1 Axes>"
      ]
     },
     "metadata": {
      "needs_background": "light"
     },
     "output_type": "display_data"
    }
   ],
   "source": [
    "ax = plt.figure().add_subplot(111)\n",
    "ax.scatter(\n",
    "    source_times, \n",
    "    source_values, \n",
    "    label=\"source data\", \n",
    "    marker=MARKER_1,\n",
    "    color=COLOUR_1,\n",
    ")\n",
    "ax.scatter(\n",
    "    target_times, \n",
    "    interval_averages, \n",
    "    color=COLOUR_3, \n",
    "    marker=MARKER_2,\n",
    "    zorder=10, \n",
    "    label=\"target data\"\n",
    ")\n",
    "ax.legend();"
   ]
  },
  {
   "cell_type": "markdown",
   "metadata": {},
   "source": [
    "### Using OpenSCM\n",
    "\n",
    "Requesting the data from this view includes an automatic conversion onto our new timeseries."
   ]
  },
  {
   "cell_type": "code",
   "execution_count": 42,
   "metadata": {},
   "outputs": [
    {
     "data": {
      "text/plain": [
       "array([ 2.02142857,  5.37857143,  3.42857143,  3.34285714,  5.1       ,\n",
       "        7.18571429,  5.44642857,  2.49642857,  1.20714286,  5.59285714,\n",
       "       10.4       ])"
      ]
     },
     "execution_count": 42,
     "metadata": {},
     "output_type": "execute_result"
    }
   ],
   "source": [
    "target_view.get_series()"
   ]
  },
  {
   "cell_type": "code",
   "execution_count": 43,
   "metadata": {},
   "outputs": [
    {
     "data": {
      "image/png": "[encoded data removed]",
      "text/plain": [
       "<Figure size 432x288 with 1 Axes>"
      ]
     },
     "metadata": {
      "needs_background": "light"
     },
     "output_type": "display_data"
    }
   ],
   "source": [
    "ax = plt.figure().add_subplot(111)\n",
    "ax.scatter(\n",
    "    source_times, \n",
    "    source_values, \n",
    "    label=\"source data\", \n",
    "    marker=MARKER_1,\n",
    "    color=COLOUR_1,\n",
    ")\n",
    "ax.scatter(\n",
    "    target_times, \n",
    "    target_view.get_series(), \n",
    "    label=\"target data\", \n",
    "    marker=MARKER_2,\n",
    "    color=COLOUR_2,\n",
    ")\n",
    "ax.legend(frameon=False);"
   ]
  }
 ],
 "metadata": {
  "jupytext": {},
  "kernelspec": {
   "display_name": "Python 3",
   "language": "python",
   "name": "python3"
  },
  "language_info": {
   "codemirror_mode": {
    "name": "ipython",
    "version": 3
   },
   "file_extension": ".py",
   "mimetype": "text/x-python",
   "name": "python",
   "nbconvert_exporter": "python",
   "pygments_lexer": "ipython3",
   "version": "3.7.0"
  }
 },
 "nbformat": 4,
 "nbformat_minor": 2
}
